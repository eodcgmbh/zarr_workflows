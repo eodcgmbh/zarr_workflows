{
 "cells": [
  {
   "cell_type": "code",
   "execution_count": 1,
   "id": "d3531ce8",
   "metadata": {},
   "outputs": [],
   "source": [
    "import numpy as np\n",
    "import zarr\n",
    "from datetime import datetime\n",
    "\n",
    "import sys\n",
    "\n",
    "if not sys.warnoptions:\n",
    "    import warnings\n",
    "    warnings.filterwarnings(\"ignore\", category=UserWarning)"
   ]
  },
  {
   "cell_type": "code",
   "execution_count": 2,
   "id": "4e5b26b1",
   "metadata": {},
   "outputs": [],
   "source": [
    "store_path = \"/eodc/private/tempearth/s1sig0.zarr\""
   ]
  },
  {
   "cell_type": "code",
   "execution_count": 20,
   "id": "8712338f",
   "metadata": {},
   "outputs": [],
   "source": [
    "now = datetime.now()\n",
    "now_np = np.datetime64(now).astype('datetime64[D]')\n",
    "now_np = np.datetime64(\"2025-08-11\")\n",
    "origin = np.datetime64(\"2014-10-01\")\n",
    "timesteps = int((now_np-origin).astype(int))"
   ]
  },
  {
   "cell_type": "code",
   "execution_count": 21,
   "metadata": {},
   "outputs": [],
   "source": [
    "x_extent = np.arange(4500000, 5400000, 20)\n",
    "y_extent = np.arange(1800000, 1200000, -20)\n",
    "time_extent = np.arange(0,timesteps,1)\n",
    "rel_orbit_extent = [15, 22, 37, 44, 51, 66, 73, 88, 95, 117, 124, 139, 146, 161, 168, 175]"
   ]
  },
  {
   "cell_type": "code",
   "execution_count": 22,
   "id": "2aa65865",
   "metadata": {},
   "outputs": [],
   "source": [
    "shape = (16,time_extent.shape[0],y_extent.shape[0],x_extent.shape[0])\n",
    "\n",
    "chunk_shape = (1,30,500,500)\n",
    "shard_shape = (1,30,5000,5000)\n",
    "\n",
    "x_shape = x_extent.shape\n",
    "y_shape = y_extent.shape\n",
    "time_shape = time_extent.shape"
   ]
  },
  {
   "cell_type": "code",
   "execution_count": 23,
   "id": "da0da444",
   "metadata": {},
   "outputs": [],
   "source": [
    "overwrite=True\n",
    "store = zarr.storage.LocalStore(store_path)\n",
    "root = zarr.create_group(store=store, overwrite=overwrite,\n",
    "                        attributes={\"freq\": \"1D\",\n",
    "                                    \"spatial_resolution\": 20,\n",
    "                                    \"border_noise_removed\": True,\n",
    "                                    \"creator\": \"gfm_ops\",\n",
    "                                    \"crs_wkt\": \"PROJCS[\\\"Azimuthal_Equidistant\\\",GEOGCS[\\\"WGS 84\\\",DATUM[\\\"WGS_1984\\\",SPHEROID[\\\"WGS 84\\\",6378137,298.257223563,AUTHORITY[\\\"EPSG\\\",\\\"7030\\\"]],AUTHORITY[\\\"EPSG\\\",\\\"6326\\\"]],PRIMEM[\\\"Greenwich\\\",0],UNIT[\\\"degree\\\",0.0174532925199433],AUTHORITY[\\\"EPSG\\\",\\\"4326\\\"]],PROJECTION[\\\"Azimuthal_Equidistant\\\"],PARAMETER[\\\"latitude_of_center\\\",53],PARAMETER[\\\"longitude_of_center\\\",24],PARAMETER[\\\"false_easting\\\",5837287.81977],PARAMETER[\\\"false_northing\\\",2121415.69617],UNIT[\\\"metre\\\",1,AUTHORITY[\\\"EPSG\\\",\\\"9001\\\"]]]\",\n",
    "                                    \"dem_source\": \"/store_frei/eodc_gfm/datapool/copdem/CopDEM30m_global_mosaic.tif\",\n",
    "                                    \"egm_applied\": False,\n",
    "                                    \"mode\": \"IW\",\n",
    "                                    \"orbit_file_type\": \"RESORB\",\n",
    "                                    \"slice_gap_filled\": False,\n",
    "                                    \"slice_overlap_removed\": False,\n",
    "                                    \"snap_version\": \"8.0\",\n",
    "                                    \"spatial_filter\": None,\n",
    "                                    \"thermal_noise_removed\": True,\n",
    "                                    \"worker_git_commit\": None,\n",
    "                                    \"worker_git_tag\": \"v1.1.2\",\n",
    "                                    \"worker_name\": \"s1-sigma\",\n",
    "                                    \"wrapper_git_commit\": None,\n",
    "                                    \"wrapper_git_tag\": \"v1.1.2\",\n",
    "                                    \"wrapper_name\": \"gfm-sigma-nrt\",\n",
    "                                    \"AREA_OR_POINT\": \"Area\",\n",
    "                                    })"
   ]
  },
  {
   "cell_type": "code",
   "execution_count": null,
   "id": "d0cb9e7d",
   "metadata": {},
   "outputs": [],
   "source": [
    "root.create_array(name=\"VH\",\n",
    "                    shape=shape,\n",
    "                    shards=shard_shape,\n",
    "                    chunks=chunk_shape,\n",
    "                    compressors = zarr.codecs.BloscCodec(),\n",
    "                    dtype=\"int16\",\n",
    "                    fill_value=-9999,\n",
    "                    dimension_names=[\"relative_orbit_number\", \"time\", \"y\", \"x\"],\n",
    "                    config={\"write_empty_chunks\":False},\n",
    "                    attributes={\"_FillValue\": -9999,\n",
    "                                \"_ARRAY_DIMENSIONS\": [\"relative_orbit_number\", \"time\", \"y\", \"x\"],\n",
    "                                \"scale_factor\": 0.1,\n",
    "                                \"description\": \"Sigma nought radar backscatter coefficient in VH polarisation\",\n",
    "                                \"long_name\": \"Sentinel-1 VH polarization sigma nought backscatter\",\n",
    "                                \"standard_name\": \"radar_backscatter_coefficient\",\n",
    "                                \"polarisation\": \"VH\",\n",
    "                                \"units\": \"dB\",\n",
    "                                \"grid_mapping\": \"spatial_ref\"},\n",
    "                    overwrite=overwrite)\n",
    "\n",
    "root.create_array(name=\"VV\",\n",
    "                    shape=shape,\n",
    "                    shards=shard_shape,\n",
    "                    chunks=chunk_shape,\n",
    "                    compressors = zarr.codecs.BloscCodec(),\n",
    "                    dtype=\"int16\",\n",
    "                    fill_value=-9999,\n",
    "                    dimension_names=[\"relative_orbit_number\", \"time\", \"y\", \"x\"],\n",
    "                    config={\"write_empty_chunks\":False},\n",
    "                    attributes={\"_FillValue\": -9999,\n",
    "                                \"_ARRAY_DIMENSIONS\": [\"relative_orbit_number\", \"time\", \"y\", \"x\"],\n",
    "                                \"scale_factor\": 0.1,\n",
    "                                \"description\": \"Sigma nought radar backscatter coefficient in VV polarisation\",\n",
    "                                \"long_name\": \"Sentinel-1 VV polarization sigma nought backscatter\",\n",
    "                                \"standard_name\": \"radar_backscatter_coefficient\",\n",
    "                                \"polarisation\": \"VV\",\n",
    "                                \"units\": \"dB\",\n",
    "                                \"grid_mapping\": \"spatial_ref\"},\n",
    "                    overwrite=overwrite)\n",
    "\n",
    "root.create_array(name=\"sensing_date\",\n",
    "                shape=shape,\n",
    "                shards=shard_shape,\n",
    "                chunks=chunk_shape,\n",
    "                dtype=\"int64\",\n",
    "                fill_value=-9999,\n",
    "                dimension_names=[\"relative_orbit_number\",\"time\", \"y\", \"x\"],\n",
    "                attributes={\"units\": \"seconds since 2014-10-01 00:00:00\",\n",
    "                            \"calendar\": \"proleptic_gregorian\",\n",
    "                            \"_FillValue\": -9999,\n",
    "                            \"_ARRAY_DIMENSIONS\": [\"relative_orbit_number\", \"time\", \"y\", \"x\"],\n",
    "                            \"long_name\": \"sensing time of measurement\",\n",
    "                            \"standard_name\": \"time\",\n",
    "                            \"grid_mapping\": \"spatial_ref\"},\n",
    "                overwrite=overwrite)\n",
    "\n",
    "root.create_array(name=\"absolute_orbit_number\",\n",
    "                shape=shape,\n",
    "                shards=shard_shape,\n",
    "                chunks=chunk_shape,\n",
    "                dtype=\"int32\",\n",
    "                fill_value=-9999,\n",
    "                dimension_names=[\"relative_orbit_number\",\"time\", \"y\", \"x\"],\n",
    "                attributes={\"_FillValue\": -9999,\n",
    "                            \"_ARRAY_DIMENSIONS\": [\"relative_orbit_number\", \"time\", \"y\", \"x\"],\n",
    "                            \"long_name\": \"Absolute orbit number\",\n",
    "                            \"units\": \"\",\n",
    "                            \"grid_mapping\": \"spatial_ref\"},\n",
    "                overwrite=overwrite)\n",
    "\n",
    "rel_orbit_number = root.create_array(name=\"relative_orbit_number\",\n",
    "                shape=(16),\n",
    "                chunks=(16),\n",
    "                dtype=\"int16\",\n",
    "                fill_value=-9999,\n",
    "                dimension_names=[\"relative_orbit_number\"],\n",
    "                attributes={\"_FillValue\": -9999,\n",
    "                            \"long_name\": \"Relative orbit number\",\n",
    "                            \"units\": \"\"},                \n",
    "                overwrite=overwrite)\n",
    "\n",
    "spat_ref = group.create_array(name=\"spatial_ref\",\n",
    "                shape=(1,),\n",
    "                chunks=(1,),\n",
    "                shards=(1,),\n",
    "                compressors = zarr.codecs.BloscCodec(),\n",
    "                dtype=\"int8\",\n",
    "                dimension_names=[\"spatial_ref\"],\n",
    "                attributes={'crs_wkt': 'PROJCS[\"unknown\",GEOGCS[\"WGS 84\",DATUM[\"WGS_1984\",SPHEROID[\"WGS 84\",6378137,298.257223563,AUTHORITY[\"EPSG\",\"7030\"]],AUTHORITY[\"EPSG\",\"6326\"]],PRIMEM[\"Greenwich\",0],UNIT[\"degree\",0.0174532925199433,AUTHORITY[\"EPSG\",\"9122\"]],AUTHORITY[\"EPSG\",\"4326\"]],PROJECTION[\"Azimuthal_Equidistant\"],PARAMETER[\"latitude_of_center\",53],PARAMETER[\"longitude_of_center\",24],PARAMETER[\"false_easting\",5837287.81977],PARAMETER[\"false_northing\",2121415.69617],UNIT[\"metre\",1,AUTHORITY[\"EPSG\",\"9001\"]],AXIS[\"Easting\",EAST],AXIS[\"Northing\",NORTH]]',\n",
    "                            'semi_major_axis': 6378137.0,\n",
    "                            'semi_minor_axis': 6356752.314245179,\n",
    "                            'inverse_flattening': 298.257223563,\n",
    "                            'reference_ellipsoid_name': 'WGS 84',\n",
    "                            'longitude_of_prime_meridian': 0.0,\n",
    "                            'prime_meridian_name': 'Greenwich',\n",
    "                            'geographic_crs_name': 'WGS 84',\n",
    "                            'horizontal_datum_name': 'World Geodetic System 1984',\n",
    "                            'projected_crs_name': 'unknown',\n",
    "                            'grid_mapping_name': 'azimuthal_equidistant',\n",
    "                            'latitude_of_projection_origin': 53.0,\n",
    "                            'longitude_of_projection_origin': 24.0,\n",
    "                            'false_easting': 5837287.81977,\n",
    "                            'false_northing': 2121415.69617,\n",
    "                            'spatial_ref': 'PROJCS[\"unknown\",GEOGCS[\"WGS 84\",DATUM[\"WGS_1984\",SPHEROID[\"WGS 84\",6378137,298.257223563,AUTHORITY[\"EPSG\",\"7030\"]],AUTHORITY[\"EPSG\",\"6326\"]],PRIMEM[\"Greenwich\",0],UNIT[\"degree\",0.0174532925199433,AUTHORITY[\"EPSG\",\"9122\"]],AUTHORITY[\"EPSG\",\"4326\"]],PROJECTION[\"Azimuthal_Equidistant\"],PARAMETER[\"latitude_of_center\",53],PARAMETER[\"longitude_of_center\",24],PARAMETER[\"false_easting\",5837287.81977],PARAMETER[\"false_northing\",2121415.69617],UNIT[\"metre\",1,AUTHORITY[\"EPSG\",\"9001\"]],AXIS[\"Easting\",EAST],AXIS[\"Northing\",NORTH]]',\n",
    "                            'GeoTransform': '4500000.0 20.0 0.0 1800000.0 0.0 -20.0'},\n",
    "                overwrite=overwrite)\n",
    "\n",
    "x_array = root.create_array(name=\"x\",\n",
    "            shape=x_shape,\n",
    "            chunks=x_shape,\n",
    "            dtype=\"float64\",\n",
    "            dimension_names=[\"x\"],\n",
    "            attributes={\"_FillValue\": \"AAAAAAAA+H8=\", #fill value is NaN\n",
    "                        \"axis\": \"X\",\n",
    "                        \"long_name\": \"x coordinate of projection\",\n",
    "                        \"standard_name\": \"projection_x_coordinate\",\n",
    "                        \"units\": \"m\"},\n",
    "            overwrite=overwrite)\n",
    "\n",
    "y_array = root.create_array(name=\"y\",\n",
    "            shape=y_shape,\n",
    "            chunks=y_shape,\n",
    "            dtype=\"float64\",\n",
    "            dimension_names=[\"y\"],\n",
    "            attributes={\"_FillValue\": \"AAAAAAAA+H8=\", #fill value is NaN\n",
    "                        \"axis\": \"Y\",\n",
    "                        \"long_name\": \"y coordinate of projection\",\n",
    "                        \"standard_name\": \"projection_y_coordinate\",\n",
    "                        \"units\": \"m\"},\n",
    "            overwrite=overwrite)\n",
    "\n",
    "time_array = root.create_array(name=\"time\",\n",
    "            shape=time_shape,\n",
    "            dtype=\"int64\",\n",
    "            dimension_names=[\"time\"],\n",
    "            attributes={\"units\": \"days since 2014-10-01\",\n",
    "                        \"calendar\": \"proleptic_gregorian\",\n",
    "                        \"long_name\": \"date of acquisition\",\n",
    "                        \"standard_name\": \"time\"},\n",
    "            overwrite=overwrite)"
   ]
  },
  {
   "cell_type": "code",
   "execution_count": 25,
   "id": "05b75d5c",
   "metadata": {},
   "outputs": [
    {
     "data": {
      "text/plain": [
       "<Group file:///eodc/products/eodc/sentinel1_sig0/s1sig0.zarr>"
      ]
     },
     "execution_count": 25,
     "metadata": {},
     "output_type": "execute_result"
    }
   ],
   "source": [
    "x_array[:] = x_extent\n",
    "y_array[:] = y_extent\n",
    "time_array[:] = time_extent\n",
    "rel_orbit_number[:] = rel_orbit_extent\n",
    "zarr.consolidate_metadata(store)"
   ]
  },
  {
   "cell_type": "code",
   "execution_count": null,
   "id": "5972940e",
   "metadata": {},
   "outputs": [],
   "source": [
    "now = datetime.now()\n",
    "now_np = np.datetime64(now).astype('datetime64[D]')\n",
    "origin = np.datetime64(\"2014-10-01\")\n",
    "\n",
    "new_shape = int((now_np-origin).astype(int))\n",
    "new_extent = np.arange(0,new_shape,1)\n",
    "\n",
    "store = zarr.storage.LocalStore(store_path)\n",
    "group = zarr.group(store=store)\n",
    "\n",
    "array_names=set(group.array_keys())\n",
    "coords = {\"time\", \"x\", \"y\"}\n",
    "data_arrays = array_names-coords\n",
    "\n",
    "group[\"time\"].resize(new_shape)\n",
    "for array in data_arrays:\n",
    "    group_shape  = group[array].shape\n",
    "    group[array].resize((new_shape, group_shape[1], group_shape[2]))\n",
    "\n",
    "zarr.consolidate_metadata(store)\n",
    "\n",
    "store = zarr.storage.LocalStore(store_path)\n",
    "group = zarr.group(store=store)\n",
    "\n",
    "group[\"time\"][:]=new_extent"
   ]
  },
  {
   "cell_type": "code",
   "execution_count": 13,
   "id": "009e2cce",
   "metadata": {},
   "outputs": [],
   "source": [
    "store = zarr.storage.LocalStore(store_path)\n",
    "group = zarr.group(store=store)"
   ]
  },
  {
   "cell_type": "code",
   "execution_count": 6,
   "id": "c7303843",
   "metadata": {},
   "outputs": [],
   "source": [
    "spat_ref = group.create_array(name=\"spatial_ref\",\n",
    "                shape=(1,),\n",
    "                chunks=(1,),\n",
    "                shards=(1,),\n",
    "                compressors = zarr.codecs.BloscCodec(),\n",
    "                dtype=\"int8\",\n",
    "                dimension_names=[\"spatial_ref\"],\n",
    "                attributes={'crs_wkt': 'PROJCS[\"unknown\",GEOGCS[\"WGS 84\",DATUM[\"WGS_1984\",SPHEROID[\"WGS 84\",6378137,298.257223563,AUTHORITY[\"EPSG\",\"7030\"]],AUTHORITY[\"EPSG\",\"6326\"]],PRIMEM[\"Greenwich\",0],UNIT[\"degree\",0.0174532925199433,AUTHORITY[\"EPSG\",\"9122\"]],AUTHORITY[\"EPSG\",\"4326\"]],PROJECTION[\"Azimuthal_Equidistant\"],PARAMETER[\"latitude_of_center\",53],PARAMETER[\"longitude_of_center\",24],PARAMETER[\"false_easting\",5837287.81977],PARAMETER[\"false_northing\",2121415.69617],UNIT[\"metre\",1,AUTHORITY[\"EPSG\",\"9001\"]],AXIS[\"Easting\",EAST],AXIS[\"Northing\",NORTH]]',\n",
    "                            'semi_major_axis': 6378137.0,\n",
    "                            'semi_minor_axis': 6356752.314245179,\n",
    "                            'inverse_flattening': 298.257223563,\n",
    "                            'reference_ellipsoid_name': 'WGS 84',\n",
    "                            'longitude_of_prime_meridian': 0.0,\n",
    "                            'prime_meridian_name': 'Greenwich',\n",
    "                            'geographic_crs_name': 'WGS 84',\n",
    "                            'horizontal_datum_name': 'World Geodetic System 1984',\n",
    "                            'projected_crs_name': 'unknown',\n",
    "                            'grid_mapping_name': 'azimuthal_equidistant',\n",
    "                            'latitude_of_projection_origin': 53.0,\n",
    "                            'longitude_of_projection_origin': 24.0,\n",
    "                            'false_easting': 5837287.81977,\n",
    "                            'false_northing': 2121415.69617,\n",
    "                            'spatial_ref': 'PROJCS[\"unknown\",GEOGCS[\"WGS 84\",DATUM[\"WGS_1984\",SPHEROID[\"WGS 84\",6378137,298.257223563,AUTHORITY[\"EPSG\",\"7030\"]],AUTHORITY[\"EPSG\",\"6326\"]],PRIMEM[\"Greenwich\",0],UNIT[\"degree\",0.0174532925199433,AUTHORITY[\"EPSG\",\"9122\"]],AUTHORITY[\"EPSG\",\"4326\"]],PROJECTION[\"Azimuthal_Equidistant\"],PARAMETER[\"latitude_of_center\",53],PARAMETER[\"longitude_of_center\",24],PARAMETER[\"false_easting\",5837287.81977],PARAMETER[\"false_northing\",2121415.69617],UNIT[\"metre\",1,AUTHORITY[\"EPSG\",\"9001\"]],AXIS[\"Easting\",EAST],AXIS[\"Northing\",NORTH]]',\n",
    "                            'GeoTransform': '4500000.0 20.0 0.0 1800000.0 0.0 -20.0'},\n",
    "                overwrite=True)"
   ]
  },
  {
   "cell_type": "code",
   "execution_count": 19,
   "id": "94d92a74",
   "metadata": {},
   "outputs": [
    {
     "data": {
      "text/plain": [
       "<Group file:///eodc/private/tempearth/s1sig0.zarr>"
      ]
     },
     "execution_count": 19,
     "metadata": {},
     "output_type": "execute_result"
    }
   ],
   "source": [
    "\n",
    "zarr.consolidate_metadata(store)"
   ]
  },
  {
   "cell_type": "code",
   "execution_count": 10,
   "id": "26344b17",
   "metadata": {},
   "outputs": [
    {
     "ename": "KeyError",
     "evalue": "\"'spat_ref' not found in consolidated metadata.\"",
     "output_type": "error",
     "traceback": [
      "\u001b[31m---------------------------------------------------------------------------\u001b[39m",
      "\u001b[31mKeyError\u001b[39m                                  Traceback (most recent call last)",
      "\u001b[36mFile \u001b[39m\u001b[32m~/miniforge3/envs/zarr/lib/python3.11/site-packages/zarr/core/group.py:735\u001b[39m, in \u001b[36mAsyncGroup._getitem_consolidated\u001b[39m\u001b[34m(self, store_path, key, prefix)\u001b[39m\n\u001b[32m    734\u001b[39m \u001b[38;5;28;01mtry\u001b[39;00m:\n\u001b[32m--> \u001b[39m\u001b[32m735\u001b[39m     metadata = \u001b[43mmetadata\u001b[49m\u001b[43m.\u001b[49m\u001b[43mconsolidated_metadata\u001b[49m\u001b[43m.\u001b[49m\u001b[43mmetadata\u001b[49m\u001b[43m[\u001b[49m\u001b[43mindexer\u001b[49m\u001b[43m]\u001b[49m\n\u001b[32m    736\u001b[39m \u001b[38;5;28;01mexcept\u001b[39;00m \u001b[38;5;167;01mKeyError\u001b[39;00m \u001b[38;5;28;01mas\u001b[39;00m e:\n\u001b[32m    737\u001b[39m     \u001b[38;5;66;03m# The Group Metadata has consolidated metadata, but the key\u001b[39;00m\n\u001b[32m    738\u001b[39m     \u001b[38;5;66;03m# isn't present. We trust this to mean that the key isn't in\u001b[39;00m\n\u001b[32m    739\u001b[39m     \u001b[38;5;66;03m# the hierarchy, and *don't* fall back to checking the store.\u001b[39;00m\n",
      "\u001b[31mKeyError\u001b[39m: 'spat_ref'",
      "\nThe above exception was the direct cause of the following exception:\n",
      "\u001b[31mKeyError\u001b[39m                                  Traceback (most recent call last)",
      "\u001b[36mCell\u001b[39m\u001b[36m \u001b[39m\u001b[32mIn[10]\u001b[39m\u001b[32m, line 1\u001b[39m\n\u001b[32m----> \u001b[39m\u001b[32m1\u001b[39m \u001b[43mgroup\u001b[49m\u001b[43m[\u001b[49m\u001b[33;43m\"\u001b[39;49m\u001b[33;43mspat_ref\u001b[39;49m\u001b[33;43m\"\u001b[39;49m\u001b[43m]\u001b[49m[:] = \u001b[32m0\u001b[39m\n",
      "\u001b[36mFile \u001b[39m\u001b[32m~/miniforge3/envs/zarr/lib/python3.11/site-packages/zarr/core/group.py:1854\u001b[39m, in \u001b[36mGroup.__getitem__\u001b[39m\u001b[34m(self, path)\u001b[39m\n\u001b[32m   1827\u001b[39m \u001b[38;5;28;01mdef\u001b[39;00m \u001b[34m__getitem__\u001b[39m(\u001b[38;5;28mself\u001b[39m, path: \u001b[38;5;28mstr\u001b[39m) -> Array | Group:\n\u001b[32m   1828\u001b[39m \u001b[38;5;250m    \u001b[39m\u001b[33;03m\"\"\"Obtain a group member.\u001b[39;00m\n\u001b[32m   1829\u001b[39m \n\u001b[32m   1830\u001b[39m \u001b[33;03m    Parameters\u001b[39;00m\n\u001b[32m   (...)\u001b[39m\u001b[32m   1852\u001b[39m \n\u001b[32m   1853\u001b[39m \u001b[33;03m    \"\"\"\u001b[39;00m\n\u001b[32m-> \u001b[39m\u001b[32m1854\u001b[39m     obj = \u001b[38;5;28;43mself\u001b[39;49m\u001b[43m.\u001b[49m\u001b[43m_sync\u001b[49m\u001b[43m(\u001b[49m\u001b[38;5;28;43mself\u001b[39;49m\u001b[43m.\u001b[49m\u001b[43m_async_group\u001b[49m\u001b[43m.\u001b[49m\u001b[43mgetitem\u001b[49m\u001b[43m(\u001b[49m\u001b[43mpath\u001b[49m\u001b[43m)\u001b[49m\u001b[43m)\u001b[49m\n\u001b[32m   1855\u001b[39m     \u001b[38;5;28;01mif\u001b[39;00m \u001b[38;5;28misinstance\u001b[39m(obj, AsyncArray):\n\u001b[32m   1856\u001b[39m         \u001b[38;5;28;01mreturn\u001b[39;00m Array(obj)\n",
      "\u001b[36mFile \u001b[39m\u001b[32m~/miniforge3/envs/zarr/lib/python3.11/site-packages/zarr/core/sync.py:208\u001b[39m, in \u001b[36mSyncMixin._sync\u001b[39m\u001b[34m(self, coroutine)\u001b[39m\n\u001b[32m    205\u001b[39m \u001b[38;5;28;01mdef\u001b[39;00m \u001b[34m_sync\u001b[39m(\u001b[38;5;28mself\u001b[39m, coroutine: Coroutine[Any, Any, T]) -> T:\n\u001b[32m    206\u001b[39m     \u001b[38;5;66;03m# TODO: refactor this to to take *args and **kwargs and pass those to the method\u001b[39;00m\n\u001b[32m    207\u001b[39m     \u001b[38;5;66;03m# this should allow us to better type the sync wrapper\u001b[39;00m\n\u001b[32m--> \u001b[39m\u001b[32m208\u001b[39m     \u001b[38;5;28;01mreturn\u001b[39;00m \u001b[43msync\u001b[49m\u001b[43m(\u001b[49m\n\u001b[32m    209\u001b[39m \u001b[43m        \u001b[49m\u001b[43mcoroutine\u001b[49m\u001b[43m,\u001b[49m\n\u001b[32m    210\u001b[39m \u001b[43m        \u001b[49m\u001b[43mtimeout\u001b[49m\u001b[43m=\u001b[49m\u001b[43mconfig\u001b[49m\u001b[43m.\u001b[49m\u001b[43mget\u001b[49m\u001b[43m(\u001b[49m\u001b[33;43m\"\u001b[39;49m\u001b[33;43masync.timeout\u001b[39;49m\u001b[33;43m\"\u001b[39;49m\u001b[43m)\u001b[49m\u001b[43m,\u001b[49m\n\u001b[32m    211\u001b[39m \u001b[43m    \u001b[49m\u001b[43m)\u001b[49m\n",
      "\u001b[36mFile \u001b[39m\u001b[32m~/miniforge3/envs/zarr/lib/python3.11/site-packages/zarr/core/sync.py:163\u001b[39m, in \u001b[36msync\u001b[39m\u001b[34m(coro, loop, timeout)\u001b[39m\n\u001b[32m    160\u001b[39m return_result = \u001b[38;5;28mnext\u001b[39m(\u001b[38;5;28miter\u001b[39m(finished)).result()\n\u001b[32m    162\u001b[39m \u001b[38;5;28;01mif\u001b[39;00m \u001b[38;5;28misinstance\u001b[39m(return_result, \u001b[38;5;167;01mBaseException\u001b[39;00m):\n\u001b[32m--> \u001b[39m\u001b[32m163\u001b[39m     \u001b[38;5;28;01mraise\u001b[39;00m return_result\n\u001b[32m    164\u001b[39m \u001b[38;5;28;01melse\u001b[39;00m:\n\u001b[32m    165\u001b[39m     \u001b[38;5;28;01mreturn\u001b[39;00m return_result\n",
      "\u001b[36mFile \u001b[39m\u001b[32m~/miniforge3/envs/zarr/lib/python3.11/site-packages/zarr/core/sync.py:119\u001b[39m, in \u001b[36m_runner\u001b[39m\u001b[34m(coro)\u001b[39m\n\u001b[32m    114\u001b[39m \u001b[38;5;250m\u001b[39m\u001b[33;03m\"\"\"\u001b[39;00m\n\u001b[32m    115\u001b[39m \u001b[33;03mAwait a coroutine and return the result of running it. If awaiting the coroutine raises an\u001b[39;00m\n\u001b[32m    116\u001b[39m \u001b[33;03mexception, the exception will be returned.\u001b[39;00m\n\u001b[32m    117\u001b[39m \u001b[33;03m\"\"\"\u001b[39;00m\n\u001b[32m    118\u001b[39m \u001b[38;5;28;01mtry\u001b[39;00m:\n\u001b[32m--> \u001b[39m\u001b[32m119\u001b[39m     \u001b[38;5;28;01mreturn\u001b[39;00m \u001b[38;5;28;01mawait\u001b[39;00m coro\n\u001b[32m    120\u001b[39m \u001b[38;5;28;01mexcept\u001b[39;00m \u001b[38;5;167;01mException\u001b[39;00m \u001b[38;5;28;01mas\u001b[39;00m ex:\n\u001b[32m    121\u001b[39m     \u001b[38;5;28;01mreturn\u001b[39;00m ex\n",
      "\u001b[36mFile \u001b[39m\u001b[32m~/miniforge3/envs/zarr/lib/python3.11/site-packages/zarr/core/group.py:697\u001b[39m, in \u001b[36mAsyncGroup.getitem\u001b[39m\u001b[34m(self, key)\u001b[39m\n\u001b[32m    695\u001b[39m \u001b[38;5;66;03m# Consolidated metadata lets us avoid some I/O operations so try that first.\u001b[39;00m\n\u001b[32m    696\u001b[39m \u001b[38;5;28;01mif\u001b[39;00m \u001b[38;5;28mself\u001b[39m.metadata.consolidated_metadata \u001b[38;5;129;01mis\u001b[39;00m \u001b[38;5;129;01mnot\u001b[39;00m \u001b[38;5;28;01mNone\u001b[39;00m:\n\u001b[32m--> \u001b[39m\u001b[32m697\u001b[39m     \u001b[38;5;28;01mreturn\u001b[39;00m \u001b[38;5;28;43mself\u001b[39;49m\u001b[43m.\u001b[49m\u001b[43m_getitem_consolidated\u001b[49m\u001b[43m(\u001b[49m\u001b[43mstore_path\u001b[49m\u001b[43m,\u001b[49m\u001b[43m \u001b[49m\u001b[43mkey\u001b[49m\u001b[43m,\u001b[49m\u001b[43m \u001b[49m\u001b[43mprefix\u001b[49m\u001b[43m=\u001b[49m\u001b[38;5;28;43mself\u001b[39;49m\u001b[43m.\u001b[49m\u001b[43mname\u001b[49m\u001b[43m)\u001b[49m\n\u001b[32m    698\u001b[39m \u001b[38;5;28;01mtry\u001b[39;00m:\n\u001b[32m    699\u001b[39m     \u001b[38;5;28;01mreturn\u001b[39;00m \u001b[38;5;28;01mawait\u001b[39;00m get_node(\n\u001b[32m    700\u001b[39m         store=store_path.store, path=store_path.path, zarr_format=\u001b[38;5;28mself\u001b[39m.metadata.zarr_format\n\u001b[32m    701\u001b[39m     )\n",
      "\u001b[36mFile \u001b[39m\u001b[32m~/miniforge3/envs/zarr/lib/python3.11/site-packages/zarr/core/group.py:741\u001b[39m, in \u001b[36mAsyncGroup._getitem_consolidated\u001b[39m\u001b[34m(self, store_path, key, prefix)\u001b[39m\n\u001b[32m    736\u001b[39m     \u001b[38;5;28;01mexcept\u001b[39;00m \u001b[38;5;167;01mKeyError\u001b[39;00m \u001b[38;5;28;01mas\u001b[39;00m e:\n\u001b[32m    737\u001b[39m         \u001b[38;5;66;03m# The Group Metadata has consolidated metadata, but the key\u001b[39;00m\n\u001b[32m    738\u001b[39m         \u001b[38;5;66;03m# isn't present. We trust this to mean that the key isn't in\u001b[39;00m\n\u001b[32m    739\u001b[39m         \u001b[38;5;66;03m# the hierarchy, and *don't* fall back to checking the store.\u001b[39;00m\n\u001b[32m    740\u001b[39m         msg = \u001b[33mf\u001b[39m\u001b[33m\"\u001b[39m\u001b[33m'\u001b[39m\u001b[38;5;132;01m{\u001b[39;00mkey\u001b[38;5;132;01m}\u001b[39;00m\u001b[33m'\u001b[39m\u001b[33m not found in consolidated metadata.\u001b[39m\u001b[33m\"\u001b[39m\n\u001b[32m--> \u001b[39m\u001b[32m741\u001b[39m         \u001b[38;5;28;01mraise\u001b[39;00m \u001b[38;5;167;01mKeyError\u001b[39;00m(msg) \u001b[38;5;28;01mfrom\u001b[39;00m \u001b[34;01me\u001b[39;00m\n\u001b[32m    743\u001b[39m \u001b[38;5;66;03m# update store_path to ensure that AsyncArray/Group.name is correct\u001b[39;00m\n\u001b[32m    744\u001b[39m \u001b[38;5;28;01mif\u001b[39;00m prefix != \u001b[33m\"\u001b[39m\u001b[33m/\u001b[39m\u001b[33m\"\u001b[39m:\n",
      "\u001b[31mKeyError\u001b[39m: \"'spat_ref' not found in consolidated metadata.\""
     ]
    }
   ],
   "source": [
    "group[\"spat_ref\"][:] = 0"
   ]
  },
  {
   "cell_type": "code",
   "execution_count": 17,
   "id": "bfa6756a",
   "metadata": {},
   "outputs": [],
   "source": [
    "group[\"VH\"].attrs[\"grid_mapping\"]=\"spatial_ref\""
   ]
  },
  {
   "cell_type": "code",
   "execution_count": null,
   "id": "bf0b184b",
   "metadata": {},
   "outputs": [],
   "source": []
  }
 ],
 "metadata": {
  "kernelspec": {
   "display_name": "zarr",
   "language": "python",
   "name": "python3"
  },
  "language_info": {
   "codemirror_mode": {
    "name": "ipython",
    "version": 3
   },
   "file_extension": ".py",
   "mimetype": "text/x-python",
   "name": "python",
   "nbconvert_exporter": "python",
   "pygments_lexer": "ipython3",
   "version": "3.11.4"
  }
 },
 "nbformat": 4,
 "nbformat_minor": 5
}
