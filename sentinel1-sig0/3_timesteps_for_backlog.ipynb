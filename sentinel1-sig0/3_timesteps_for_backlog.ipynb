{
 "cells": [
  {
   "cell_type": "code",
   "execution_count": 44,
   "id": "a74ed1d9",
   "metadata": {},
   "outputs": [],
   "source": [
    "# Cell 1: Imports and constants\n",
    "import yaml\n",
    "from datetime import datetime, timedelta\n",
    "\n",
    "FILENAME = \"s1sig0_timesteps.yaml\"\n"
   ]
  },
  {
   "cell_type": "code",
   "execution_count": 45,
   "id": "84685c3b",
   "metadata": {},
   "outputs": [],
   "source": [
    "# Cell 2: Generate date range pairs\n",
    "def generate_date_ranges(start_date_str, num_ranges=5):\n",
    "    start_date = datetime.strptime(start_date_str, \"%Y-%m-%d\")\n",
    "    ranges = []\n",
    "    current_start = start_date\n",
    "    for _ in range(num_ranges):\n",
    "        end_date = current_start + timedelta(days=30)  # e.g. 2014-10-01 to 2014-11-08 is 38 days\n",
    "        ranges.append(f\"{current_start.strftime('%Y-%m-%d')}/{end_date.strftime('%Y-%m-%d')}\")\n",
    "        current_start = end_date + timedelta(days=1)\n",
    "    return ranges\n",
    "\n",
    "\n",
    "\n",
    "\n",
    "# Cell 3: Write ranges to YAML\n",
    "def write_ranges_to_yaml(ranges, filename):\n",
    "    with open(filename, \"w\") as f:\n",
    "        yaml.dump({\"ranges\": ranges}, f)\n",
    "\n"
   ]
  },
  {
   "cell_type": "code",
   "execution_count": 50,
   "id": "ec4028fd",
   "metadata": {},
   "outputs": [
    {
     "name": "stdout",
     "output_type": "stream",
     "text": [
      "Wrote 10 date ranges to s1sig0_timesteps.yaml\n"
     ]
    }
   ],
   "source": [
    "# Cell 5: Generate and write ranges\n",
    "ranges = generate_date_ranges(\"2014-10-01\", num_ranges=10)\n",
    "write_ranges_to_yaml(ranges, FILENAME)\n",
    "print(f\"Wrote {len(ranges)} date ranges to {FILENAME}\")\n"
   ]
  },
  {
   "cell_type": "code",
   "execution_count": 51,
   "id": "8addbb5c",
   "metadata": {},
   "outputs": [],
   "source": [
    "def read_and_pop_yaml(filename):\n",
    "    with open(filename) as f:\n",
    "        data = yaml.safe_load(f)\n",
    "    popped = data[\"ranges\"].pop(0)  # remove and get first range\n",
    "    with open(filename, \"w\") as f:\n",
    "        yaml.dump(data, f)\n",
    "\n",
    "    data[\"done\"].append(popped)\n",
    "    with open(filename, \"w\") as f:\n",
    "        yaml.dump(data, f)\n",
    "\n",
    "    return popped"
   ]
  },
  {
   "cell_type": "code",
   "execution_count": 54,
   "id": "68132d50",
   "metadata": {},
   "outputs": [
    {
     "data": {
      "text/plain": [
       "'2014-12-02/2015-01-01'"
      ]
     },
     "execution_count": 54,
     "metadata": {},
     "output_type": "execute_result"
    }
   ],
   "source": [
    "read_and_pop_yaml(\"s1sig0_timesteps.yaml\")"
   ]
  },
  {
   "cell_type": "code",
   "execution_count": null,
   "id": "072f6fe9",
   "metadata": {},
   "outputs": [],
   "source": []
  }
 ],
 "metadata": {
  "kernelspec": {
   "display_name": "zarr",
   "language": "python",
   "name": "python3"
  },
  "language_info": {
   "codemirror_mode": {
    "name": "ipython",
    "version": 3
   },
   "file_extension": ".py",
   "mimetype": "text/x-python",
   "name": "python",
   "nbconvert_exporter": "python",
   "pygments_lexer": "ipython3",
   "version": "3.11.4"
  }
 },
 "nbformat": 4,
 "nbformat_minor": 5
}
