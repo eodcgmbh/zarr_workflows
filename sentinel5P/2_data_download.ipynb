{
 "cells": [
  {
   "cell_type": "code",
   "execution_count": null,
   "id": "aa669241",
   "metadata": {},
   "outputs": [],
   "source": [
    "from cdsetool.query import query_features\n",
    "from cdsetool.credentials import Credentials\n",
    "from cdsetool.download import download_features\n",
    "from cdsetool.monitor import StatusMonitor\n",
    "from datetime import date\n",
    "\n",
    "features = query_features(\n",
    "    \"Sentinel5P\",\n",
    "    {\n",
    "        \"startDate\": \"2024-07-01\",\n",
    "        \"completionDate\": date(2024, 8, 1),\n",
    "        \"productType\": \"L2__CO____\",\n",
    "        \"box\": [\"16\",\"48\",\"17\",\"49\"],\n",
    "    },\n",
    ")\n",
    " \n",
    "list(\n",
    "    download_features(\n",
    "        features,\n",
    "        \"data\",\n",
    "        {\n",
    "            \"concurrency\": 4,\n",
    "            \"monitor\": StatusMonitor(),\n",
    "            \"credentials\": Credentials(),\n",
    "        },\n",
    "    )\n",
    ")"
   ]
  }
 ],
 "metadata": {
  "kernelspec": {
   "display_name": "eodc",
   "language": "python",
   "name": "python3"
  },
  "language_info": {
   "name": "python",
   "version": "3.11.13"
  }
 },
 "nbformat": 4,
 "nbformat_minor": 5
}
