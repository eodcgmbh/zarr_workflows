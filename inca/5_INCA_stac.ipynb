{
 "cells": [
  {
   "cell_type": "markdown",
   "id": "04fc6715",
   "metadata": {},
   "source": [
    "### **Creating a STAC Collection for INCA data**"
   ]
  },
  {
   "cell_type": "markdown",
   "id": "32d72eb1",
   "metadata": {},
   "source": [
    "**Necessary imports**"
   ]
  },
  {
   "cell_type": "code",
   "execution_count": 49,
   "id": "4a9a8d14",
   "metadata": {},
   "outputs": [
    {
     "data": {
      "text/plain": [
       "True"
      ]
     },
     "execution_count": 49,
     "metadata": {},
     "output_type": "execute_result"
    }
   ],
   "source": [
    "import os\n",
    "from urllib.parse import urljoin\n",
    "import pystac\n",
    "import datetime\n",
    "\n",
    "from pystac import Summaries\n",
    "from pystac.utils import str_to_datetime\n",
    "\n",
    "from pystac.extensions.datacube import DatacubeExtension, DimensionType, HorizontalSpatialDimensionAxis\n",
    "from pystac.extensions.projection import ProjectionExtension\n",
    "from pystac.extensions.scientific import ScientificExtension\n",
    "from pystac.extensions.raster import RasterExtension\n",
    "\n",
    "from shapely.geometry import mapping, box\n",
    "\n",
    "import requests\n",
    "from requests.auth import HTTPBasicAuth\n",
    "\n",
    "from dotenv import load_dotenv\n",
    "load_dotenv(\"/home/otto/s1_zarr/.env\")"
   ]
  },
  {
   "cell_type": "code",
   "execution_count": 50,
   "id": "ffdf22a6",
   "metadata": {},
   "outputs": [],
   "source": [
    "username = os.getenv(\"username_stac_dev\")\n",
    "password = os.getenv(\"password_stac_dev\")"
   ]
  },
  {
   "cell_type": "markdown",
   "id": "c562b772",
   "metadata": {},
   "source": [
    "**Defining Metadata**"
   ]
  },
  {
   "cell_type": "markdown",
   "id": "66785a03",
   "metadata": {},
   "source": [
    "- shape/extent of the datacube:"
   ]
  },
  {
   "cell_type": "code",
   "execution_count": 51,
   "id": "2dfdfb86",
   "metadata": {},
   "outputs": [],
   "source": [
    "datacube = {\n",
    "            \"x\": {\"axis\": HorizontalSpatialDimensionAxis.X,\n",
    "                  \"type\": DimensionType.SPATIAL,\n",
    "                  \"extent\": [20000, 720000],},\n",
    "\n",
    "            \"y\": {\"axis\": HorizontalSpatialDimensionAxis.Y,\n",
    "                  \"type\": DimensionType.SPATIAL,\n",
    "                  \"extent\": [220000, 620000],},\n",
    "\n",
    "            \"time\": {\"type\": DimensionType.TEMPORAL, \n",
    "                     \"extent\": [\"2011-03-15T00:00:00Z\", None]},\n",
    "            }"
   ]
  },
  {
   "cell_type": "markdown",
   "id": "181bc09d",
   "metadata": {},
   "source": [
    "- available parameters and description:"
   ]
  },
  {
   "cell_type": "code",
   "execution_count": 52,
   "id": "876e0fea",
   "metadata": {},
   "outputs": [],
   "source": [
    "parameters = {\n",
    "              \"GL\": {\"description\": \"global radiation\",\n",
    "                     \"unit\": \"W m-2\",\n",
    "                     \"dimensions\": [\"x\", \"y\", \"time\"],\n",
    "                     \"type\": \"data\"},\n",
    "\n",
    "              \"P0\": {\"description\": \"mean sea level pressure\",\n",
    "                     \"unit\": \"Pa\",\n",
    "                     \"dimensions\": [\"x\", \"y\", \"time\"],\n",
    "                     \"type\": \"data\"},\n",
    "\n",
    "              \"RH2M\": {\"description\": \"relative humidity\",\n",
    "                       \"unit\": \"percent\",\n",
    "                       \"dimensions\": [\"x\", \"y\", \"time\"],\n",
    "                       \"type\": \"data\"},\n",
    "\n",
    "              \"RR\": {\"description\": \"1-hour precipitation sum\",\n",
    "                     \"unit\": \"kg m-2\",\n",
    "                     \"dimensions\": [\"x\", \"y\", \"time\"],\n",
    "                     \"type\": \"data\"},\n",
    "\n",
    "              \"T2M\": {\"description\": \"air temperature\",\n",
    "                      \"unit\": \"degree_Celsius\",\n",
    "                      \"dimensions\": [\"x\", \"y\", \"time\"],\n",
    "                      \"type\": \"data\"},\n",
    "\n",
    "              \"TD2M\": {\"description\": \"dew point temperature\",\n",
    "                       \"unit\": \"degree_Celsius\",\n",
    "                       \"dimensions\": [\"x\", \"y\", \"time\"],\n",
    "                       \"type\": \"data\"},\n",
    "\n",
    "              \"UU\": {\"description\": \"wind speed in eastward direction\",\n",
    "                     \"unit\": \"m s-1\",\n",
    "                     \"dimensions\": [\"x\", \"y\", \"time\"],\n",
    "                     \"type\": \"data\"},\n",
    "\n",
    "              \"VV\": {\"description\": \"wind speed in northward direction\",\n",
    "                     \"unit\": \"m s-1\",\n",
    "                     \"dimensions\": [\"x\", \"y\", \"time\"],\n",
    "                     \"type\": \"data\"},\n",
    "              }"
   ]
  },
  {
   "cell_type": "markdown",
   "id": "99643bbc",
   "metadata": {},
   "source": [
    "- summaries:"
   ]
  },
  {
   "cell_type": "code",
   "execution_count": 53,
   "id": "99f2ca1e",
   "metadata": {},
   "outputs": [],
   "source": [
    "    summaries_dict = {}\n",
    "    summaries_dict[\"Doi\"] = [\"https://doi.org/10.60669/m6w8-s545\"]\n",
    "    summaries_dict[\"Epsg\"] = [\"31287\"]\n",
    "    summaries_dict[\"Projection\"] = [\"Austria Lambert (EPSG: 3416)\"]\n",
    "    summaries_dict[\"Timezone\"] = [\"UTC\"]\n",
    "    summaries_dict[\"Grid\"] = [\"1x1km\"]\n",
    "    summaries_dict[\"Temporal Resolution\"] = [\"hourly\"]"
   ]
  },
  {
   "cell_type": "markdown",
   "id": "ce59dc77",
   "metadata": {},
   "source": [
    "- Properties according to [Extensions](https://github.com/stac-extensions):"
   ]
  },
  {
   "cell_type": "code",
   "execution_count": 54,
   "id": "4b15a3b7",
   "metadata": {},
   "outputs": [],
   "source": [
    "bbox = [7.1, 45.77, 17.74, 49.48]\n",
    "properties = {\"chunks\": {\"x\":100, \"y\":100, \"time\": 720},\n",
    "              \"proj:code\": \"EPSG31287\",\n",
    "              \"proj:bbox\": [20000, 220000, 720000, 620000],\n",
    "              \"proj:wkt2\": \"PROJCS[\\\"MGI / Austria Lambert\\\",GEOGCS[\\\"MGI\\\",DATUM[\\\"Militar_Geographische_Institute\\\",SPHEROID[\\\"Bessel 1841\\\",6377397.155,299.1528128,AUTHORITY[\\\"EPSG\\\",\\\"7004\\\"]],TOWGS84[577.326,90.129,463.919,5.137,1.474,5.297,2.4232],AUTHORITY[\\\"EPSG\\\",\\\"6312\\\"]],PRIMEM[\\\"Greenwich\\\",0,AUTHORITY[\\\"EPSG\\\",\\\"8901\\\"]],UNIT[\\\"degree\\\",0.0174532925199433,AUTHORITY[\\\"EPSG\\\",\\\"9122\\\"]],AUTHORITY[\\\"EPSG\\\",\\\"4312\\\"]],PROJECTION[\\\"Lambert_Conformal_Conic_2SP\\\"],PARAMETER[\\\"standard_parallel_1\\\",49],PARAMETER[\\\"standard_parallel_2\\\",46],PARAMETER[\\\"latitude_of_origin\\\",47.5],PARAMETER[\\\"central_meridian\\\",13.33333333333333],PARAMETER[\\\"false_easting\\\",400000],PARAMETER[\\\"false_northing\\\",400000],UNIT[\\\"metre\\\",1,AUTHORITY[\\\"EPSG\\\",\\\"9001\\\"]],AUTHORITY[\\\"EPSG\\\",\\\"31287\\\"]]\",\n",
    "              \"proj:shape\": [701, 401],\n",
    "              \"proj:geometry\": mapping(box(*bbox)),\n",
    "              \"proj:transform\": [1000.0, 0.0, 20000.0, 0.0, 1000.0, 220000.0, 0.0, 0.0, 1.0],\n",
    "              \"raster:spatial_resolution\": 1000,\n",
    "              \"cube:dimensions\": datacube,\n",
    "              \"sci:doi\": \"10.60669/6akt-5p05\"}"
   ]
  },
  {
   "cell_type": "markdown",
   "id": "958af621",
   "metadata": {},
   "source": [
    "**Creating the Collection**\n",
    "\n",
    "Now we can create the collection, again we can pass metadata."
   ]
  },
  {
   "cell_type": "code",
   "execution_count": 55,
   "id": "5ec7425f",
   "metadata": {},
   "outputs": [],
   "source": [
    "collection = pystac.Collection(\n",
    "        id=\"incal-hourly\",\n",
    "        title= \"INCA analysis hourly data (1km)\",\n",
    "        description=\"INCA combines all available datasources - weather stations, remote sensing data, numerical weather forecast models, and a high resolution terrain model - to provide a precise analysis of the condition of the near surface atmosphere.\",\n",
    "        \n",
    "        extent=pystac.Extent(pystac.SpatialExtent([bbox]),\n",
    "                             pystac.TemporalExtent([[str_to_datetime(\"2011-03-15T00:00:00Z\"), None]]),),\n",
    "\n",
    "        keywords=[\"GeoSphere\", \"INCA\", \"radiation\", \"pressure\", \"humiditiy\", \"precipitation\", \"temperature\", \"wind speed\"],\n",
    "        license=\"CC-BY-4.0\",\n",
    "        \n",
    "        extra_fields={\"cube:dimensions\": datacube,\n",
    "                      \"cube:variables\": parameters},\n",
    "    )"
   ]
  },
  {
   "cell_type": "markdown",
   "id": "07cde336",
   "metadata": {},
   "source": [
    "Define the data providers and their roles"
   ]
  },
  {
   "cell_type": "code",
   "execution_count": 56,
   "id": "2a93eca2",
   "metadata": {},
   "outputs": [],
   "source": [
    "collection.providers = [\n",
    "        pystac.Provider(\n",
    "            name=\"EODC\",\n",
    "            roles=[pystac.ProviderRole.HOST,],\n",
    "            url=\"https://eodc.eu/\",),\n",
    "\n",
    "        pystac.Provider(\n",
    "            name=\"GeoSphere Austria\",\n",
    "            roles=[pystac.ProviderRole.PRODUCER,\n",
    "                   pystac.ProviderRole.LICENSOR,\n",
    "                   pystac.ProviderRole.PROCESSOR,],\n",
    "            url=\"https://data.hub.geosphere.at/\",),        \n",
    "    ]"
   ]
  },
  {
   "cell_type": "markdown",
   "id": "efc4e774",
   "metadata": {},
   "source": [
    "Define which extensions to use"
   ]
  },
  {
   "cell_type": "code",
   "execution_count": 57,
   "id": "4464e794",
   "metadata": {},
   "outputs": [],
   "source": [
    "collection.stac_extensions = [\n",
    "    ProjectionExtension.get_schema_uri(),\n",
    "    DatacubeExtension.get_schema_uri(),\n",
    "    ScientificExtension.get_schema_uri(),\n",
    "    RasterExtension.get_schema_uri()\n",
    "    ]"
   ]
  },
  {
   "cell_type": "markdown",
   "id": "449ddd45",
   "metadata": {},
   "source": [
    "Write the metadata to the appropriate spot"
   ]
  },
  {
   "cell_type": "code",
   "execution_count": 58,
   "id": "a9f89617",
   "metadata": {},
   "outputs": [],
   "source": [
    "collection.summaries = Summaries(summaries_dict)\n",
    "collection.extra_fields.update(properties)"
   ]
  },
  {
   "cell_type": "markdown",
   "id": "7f09b08d",
   "metadata": {},
   "source": [
    "Add a thumbnail image"
   ]
  },
  {
   "cell_type": "code",
   "execution_count": 59,
   "id": "f08fb233",
   "metadata": {},
   "outputs": [],
   "source": [
    "collection.add_asset(\n",
    "    key=\"thumbnail\",\n",
    "    asset=pystac.Asset(\n",
    "            href=\"https://raw.githubusercontent.com/eodcgmbh/s1_zarr//main/inca/INCA_thumbnail.png\",\n",
    "            media_type=pystac.MediaType.PNG,\n",
    "            roles=[\"thumbnail\"],\n",
    "            title=\"Thumbnail\")\n",
    "    )"
   ]
  },
  {
   "cell_type": "markdown",
   "id": "6cb95363",
   "metadata": {},
   "source": [
    "As we just have a zarr store for our data, we will add it as an asset"
   ]
  },
  {
   "cell_type": "code",
   "execution_count": 60,
   "id": "d42b86d3",
   "metadata": {},
   "outputs": [],
   "source": [
    "collection.add_asset(\n",
    "            key = \"zarr_store\",\n",
    "            asset=pystac.Asset(\n",
    "                    href=\"https://data.eodc.eu/collections/INCA/INCA.zarr\",\n",
    "                    media_type=pystac.MediaType.ZARR,\n",
    "                    title=\"INCA\",\n",
    "                    roles=[\"data\"],)\n",
    "            )\n",
    "\n",
    "collection.assets[\"zarr_store\"].extra_fields[\"hello\"] = \"test\""
   ]
  },
  {
   "cell_type": "markdown",
   "id": "9e7c56e4",
   "metadata": {},
   "source": [
    "We can write the collection to a json file to later validate it"
   ]
  },
  {
   "cell_type": "code",
   "execution_count": 61,
   "id": "799e3900",
   "metadata": {},
   "outputs": [],
   "source": [
    "collection_path = f\"{collection.id}.json\"\n",
    "collection.set_self_href(collection_path)\n",
    "collection.save_object()"
   ]
  },
  {
   "cell_type": "markdown",
   "id": "cbc73285",
   "metadata": {},
   "source": [
    "**Validation**"
   ]
  },
  {
   "cell_type": "code",
   "execution_count": 62,
   "id": "b71beefc",
   "metadata": {},
   "outputs": [
    {
     "name": "stdout",
     "output_type": "stream",
     "text": [
      "Collection is valid.\n"
     ]
    }
   ],
   "source": [
    "collection = pystac.Collection.from_file(f\"{collection.id}.json\")\n",
    "\n",
    "try:\n",
    "    collection.validate()\n",
    "    print(\"Collection is valid.\")\n",
    "except Exception as e:\n",
    "    print(\"Validation failed:\", e)"
   ]
  },
  {
   "cell_type": "markdown",
   "id": "15df228a",
   "metadata": {},
   "source": [
    "**Submitting the Collection**\n",
    "\n",
    "If everything passes the validation we can submit it"
   ]
  },
  {
   "cell_type": "code",
   "execution_count": 63,
   "id": "714ff4e1",
   "metadata": {},
   "outputs": [
    {
     "data": {
      "text/plain": [
       "<Response [200]>"
      ]
     },
     "execution_count": 63,
     "metadata": {},
     "output_type": "execute_result"
    }
   ],
   "source": [
    "# Initial submit\n",
    "# requests.post(\"https://dev.stac.eodc.eu/ingestion/v1/collections\", json=collection.to_dict(), auth=HTTPBasicAuth(username, password), timeout = 30)\n",
    "\n",
    "# Update\n",
    "requests.put(\"https://dev.stac.eodc.eu/ingestion/v1/collections/incal-hourly\", json=collection.to_dict(), auth=HTTPBasicAuth(username, password), timeout = 30)\n",
    "\n",
    "# Delete Collection\n",
    "# requests.delete(\"https://dev.stac.eodc.eu/ingestion/v1/collections/incal-hourly\", auth=HTTPBasicAuth(username, password), timeout = 30)"
   ]
  },
  {
   "cell_type": "code",
   "execution_count": null,
   "id": "283007ef",
   "metadata": {},
   "outputs": [],
   "source": []
  }
 ],
 "metadata": {
  "kernelspec": {
   "display_name": "zarr",
   "language": "python",
   "name": "python3"
  },
  "language_info": {
   "codemirror_mode": {
    "name": "ipython",
    "version": 3
   },
   "file_extension": ".py",
   "mimetype": "text/x-python",
   "name": "python",
   "nbconvert_exporter": "python",
   "pygments_lexer": "ipython3",
   "version": "3.11.4"
  }
 },
 "nbformat": 4,
 "nbformat_minor": 5
}
