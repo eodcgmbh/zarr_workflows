{
 "cells": [
  {
   "cell_type": "markdown",
   "id": "516d0fd0",
   "metadata": {},
   "source": [
    "### Creating an ArgoWorkflow with hera for INCA"
   ]
  },
  {
   "cell_type": "markdown",
   "id": "84b4abf9",
   "metadata": {},
   "source": [
    "This notebook shows how to create an ArgoWorkflow to write data to a zarr store for INCA data. The created workflow will write new data to the store once a day. To learn more about Hera visit https://hera.readthedocs.io/en/v4/index.html and https://hera.readthedocs.io/en/stable/"
   ]
  },
  {
   "cell_type": "markdown",
   "id": "e0871cbe",
   "metadata": {},
   "source": [
    "### Necessary imports"
   ]
  },
  {
   "cell_type": "code",
   "execution_count": 20,
   "id": "98851abf",
   "metadata": {},
   "outputs": [
    {
     "data": {
      "text/plain": [
       "True"
      ]
     },
     "execution_count": 20,
     "metadata": {},
     "output_type": "execute_result"
    }
   ],
   "source": [
    "from dotenv import load_dotenv\n",
    "import os\n",
    "from hera.workflows import models, CronWorkflow, script, Artifact, Parameter, DAG, Steps, Step, NoneArchiveStrategy, Workflow\n",
    "from hera.shared import global_config\n",
    "\n",
    "load_dotenv(\"/home/otto/s1_zarr/.env\")"
   ]
  },
  {
   "cell_type": "markdown",
   "id": "cb9e2766",
   "metadata": {},
   "source": [
    "### Global Settings"
   ]
  },
  {
   "cell_type": "markdown",
   "id": "61377ffc",
   "metadata": {},
   "source": [
    "First the host, token, namespace and used image are set globally, as they stay don't change for different steps in this notebook. You can look at on how to create an image. It should have all the depencies you need to execute your scripts in the workflow."
   ]
  },
  {
   "cell_type": "code",
   "execution_count": 21,
   "id": "f7344659",
   "metadata": {},
   "outputs": [],
   "source": [
    "global_config.host = \"https://services.eodc.eu/workflows/\"\n",
    "global_config.namespace = \"inca\"\n",
    "global_config.token = os.getenv(\"argo_token_prod\")\n",
    "global_config.image = \"ghcr.io/oscipal/image_zarr:latest\""
   ]
  },
  {
   "cell_type": "markdown",
   "id": "716ba6e6",
   "metadata": {},
   "source": [
    "To get access to the EODC NFS, you need to define how the volume is is accessed. This is not default for all namespaces and might have to be set up. To have write access you need to define the correct security access. The runAsUser value is the UserID of the folder you want to write to, and the runAsGroup value the GroupID."
   ]
  },
  {
   "cell_type": "code",
   "execution_count": 22,
   "id": "8596c4c5",
   "metadata": {},
   "outputs": [],
   "source": [
    "nfs_volume = [models.Volume(\n",
    "    name=\"eodc-mount\",\n",
    "    persistent_volume_claim={\"claimName\": \"eodc-nfs-claim\"},\n",
    "    )]\n",
    "\n",
    "security_context = {\"runAsUser\": 74268,\n",
    "                    \"runAsGroup\": 71473}"
   ]
  },
  {
   "cell_type": "markdown",
   "id": "52e17c74",
   "metadata": {},
   "source": [
    "### Scripts"
   ]
  },
  {
   "cell_type": "markdown",
   "id": "1226747d",
   "metadata": {},
   "source": [
    "There are four ways to store data in a Workflow, *empty directories*, *NFS*, *artifacts* and *OpenStack via Cinder CSI*. For this case we will only go into artifact and NFS storage options. Data stored as an Artifact can be passed between pods in the workflow but artifact storage is only temporary meaning the file will be deleted after completion of the workflow."
   ]
  },
  {
   "cell_type": "markdown",
   "id": "f3c56d99",
   "metadata": {},
   "source": [
    "You can write python scripts you want to use in your workflow under the `@script` decorator. You have to define if you use any storage options, and any inputs and outputs you want to use in the decorator. But more in that later."
   ]
  },
  {
   "cell_type": "markdown",
   "id": "abcab5c1",
   "metadata": {},
   "source": [
    "As a first step we want to extend the time dimension in the zarr store to be able to append new data. We need to access the NFS to have access to the zarr store, so we have to define the volume mount in the `@script` decorator."
   ]
  },
  {
   "cell_type": "code",
   "execution_count": 23,
   "id": "9350f31e",
   "metadata": {},
   "outputs": [],
   "source": [
    "@script(volume_mounts=[models.VolumeMount(name=\"eodc-mount\", mount_path=\"/eodc\")])\n",
    "\n",
    "def extend_time_dimension(store_path: str = \"/eodc/products/eodc/geosphere_inca/INCA.zarr\"):\n",
    "    import datetime\n",
    "    import numpy as np\n",
    "    import zarr\n",
    "\n",
    "    now = datetime.datetime.now()\n",
    "    now_np = np.datetime64(now).astype('datetime64[h]')\n",
    "    origin = np.datetime64(\"2011-03-15T00:00:00\").astype(\"datetime64[h]\")\n",
    "\n",
    "    new_shape = int((now_np-origin).astype(int))\n",
    "    new_extent = np.arange(0,new_shape,1)\n",
    "\n",
    "    store = zarr.storage.LocalStore(store_path)\n",
    "    group = zarr.group(store=store)\n",
    "\n",
    "    array_names=set(group.array_keys())\n",
    "    coords = {\"time\", \"x\", \"y\"}\n",
    "    data_arrays = array_names-coords\n",
    "\n",
    "    group[\"time\"].resize(new_shape)\n",
    "    for array in data_arrays:\n",
    "        group_shape  = group[array].shape\n",
    "        group[array].resize((new_shape, group_shape[1], group_shape[2]))\n",
    "\n",
    "    zarr.consolidate_metadata(store)\n",
    "    store = zarr.storage.LocalStore(store_path)\n",
    "    group = zarr.group(store=store)\n",
    "\n",
    "    group[\"time\"][:]=new_extent\n"
   ]
  },
  {
   "cell_type": "markdown",
   "id": "2bbff2dc",
   "metadata": {},
   "source": [
    "Next we want to download data. We don't need to access the NFS for this step, but we do need to create an Artifact to pass the downloaded file to the next step. Again, this has to be defined in the `@script` decorator, as it is an output of the step it is defined as `output`. The name of the Artifact is like a variable name and can be freely chosen, it just needs to be correctly referenced when creating the workflow, more on that later. The path to the file has to be under `/tmp`, multiple files can also be downloaded to a folder in this path. Use *NoneArchiveStrategy()* to not compress it to .tgz format as this can cause issues. "
   ]
  },
  {
   "cell_type": "code",
   "execution_count": null,
   "id": "af2768af",
   "metadata": {},
   "outputs": [],
   "source": [
    "@script(outputs=Artifact(name=\"inca-file\", path=\"/tmp/INCA.nc\", archive=NoneArchiveStrategy()))\n",
    "\n",
    "def inca_download(param: str):\n",
    "    from urllib.request import urlretrieve\n",
    "    import datetime\n",
    "\n",
    "    ym = (datetime.date.today()-datetime.timedelta(days=1)).strftime(\"%Y%m\")\n",
    "    print(ym)\n",
    "    url = f\"https://public.hub.geosphere.at/datahub/resources/inca-v1-1h-1km/filelisting/{param}/INCAL_HOURLY_{param}_{ym}.nc\"\n",
    "    urlretrieve(url, f\"/tmp/INCA.nc\")"
   ]
  },
  {
   "cell_type": "markdown",
   "id": "e1f033d4",
   "metadata": {},
   "source": [
    "As a last step we want to write the data to the zarr store on the NFS. So we need to mount the NFS like in the first step, and, as we also need the artifact from the download step, we need to pass this under the `inputs` parameter. The name of the artifact does not have to be the same as in the download step. "
   ]
  },
  {
   "cell_type": "code",
   "execution_count": 25,
   "id": "37ea397c",
   "metadata": {},
   "outputs": [],
   "source": [
    "@script(inputs=Artifact(name=\"inca-file\", path=\"/tmp/INCA.nc\"),\n",
    "        volume_mounts=[models.VolumeMount(name=\"eodc-mount\", mount_path=\"/eodc\")])\n",
    "\n",
    "def inca_write(param: str, store_path: str=\"/eodc/products/eodc/geosphere_inca/INCA.zarr\"):\n",
    "    import xarray as xr\n",
    "    import numpy as np\n",
    "    import zarr\n",
    "    import pandas as pd\n",
    "\n",
    "    artifact_path = f\"/tmp/INCA.nc\"\n",
    "\n",
    "    def get_idx(array1, array2):\n",
    "        min_idx = np.where(array1 == array2[0])[0][0]\n",
    "        max_idx = np.where(array1 == array2[-1])[0][0] + 1\n",
    "        return min_idx, max_idx\n",
    "\n",
    "    store = zarr.storage.LocalStore(store_path)\n",
    "    group = zarr.group(store=store)\n",
    "\n",
    "    dtype = group[param].dtype\n",
    "    fill_value = group[param].attrs.get('_FillValue')\n",
    "    freq = group.attrs.get('freq')\n",
    "\n",
    "    x_extent = group[\"x\"][:]\n",
    "    y_extent = group[\"y\"][:]\n",
    "    origin = xr.open_zarr(store_path).time[0].values\n",
    "\n",
    "    data = xr.open_dataset(artifact_path, mask_and_scale=False).load()\n",
    "\n",
    "    x_min, x_max = get_idx(x_extent, data[\"x\"].values)\n",
    "    y_min, y_max = get_idx(y_extent, data[\"y\"].values)\n",
    "\n",
    "    time_min, time_max = data.time.values[0], data.time.values[-1]\n",
    "    time_delta_min, time_delta_max = (time_min.astype(\"datetime64[h]\") - origin.astype(\"datetime64[h]\")).astype(\"int64\"), (time_max.astype(\"datetime64[h]\") - origin.astype(\"datetime64[h]\")).astype(\"int64\")+1\n",
    "\n",
    "    full_range = pd.date_range(time_min, time_max, freq=freq).values.astype(\"datetime64[ns]\")\n",
    "\n",
    "    for value in data.time.values:\n",
    "        if value in set(full_range):\n",
    "            continue\n",
    "        else:\n",
    "            empty_array = np.full((full_range.shape[0], data[\"x\"].values.shape[0], data[\"y\"].values.shape[0]),\n",
    "                                fill_value=fill_value, dtype=dtype)\n",
    "\n",
    "            template = xr.Dataset({f\"{param}\": ((\"time\", \"x\", \"y\"), empty_array)},\n",
    "                                  coords={\n",
    "                                    \"time\": full_range,\n",
    "                                    \"x\": data[\"x\"].values,\n",
    "                                    \"y\": data[\"y\"].values\n",
    "                                  }\n",
    "                                  )\n",
    "\n",
    "            data = data.combine_first(template)\n",
    "            break\n",
    "\n",
    "    group[param][time_delta_min:time_delta_max, y_min:y_max, x_min:x_max] = data[param].values"
   ]
  },
  {
   "cell_type": "markdown",
   "id": "c1194bb8",
   "metadata": {},
   "source": [
    "### Creating the workflow"
   ]
  },
  {
   "cell_type": "markdown",
   "id": "65661acf",
   "metadata": {},
   "source": [
    "As the scripts only act as template Workflows we still need to define a workflow to let Argo know how to execute the scripts. "
   ]
  },
  {
   "cell_type": "markdown",
   "id": "2282d41c",
   "metadata": {},
   "source": [
    "As we have 8 different parameter for our INCA data we want the processing for them to be done in parallel. The syntax for Hera can be quite confusing, but the code below creates a CronWorkflow to achieve exactly what we want."
   ]
  },
  {
   "cell_type": "code",
   "execution_count": null,
   "id": "2764af72",
   "metadata": {},
   "outputs": [],
   "source": [
    "inca_parameters = [\"RR\", \"T2M\", \"TD2M\", \"P0\", \"UU\", \"VV\", \"RH2M\", \"GL\"]\n",
    "\n",
    "# At first a CronWorkflow is created with the necessary inputs.\n",
    "with CronWorkflow(\n",
    "    generate_name=\"inca-zarr-\",\n",
    "    schedule=\"0 6 * * *\",\n",
    "    volumes = nfs_volume,\n",
    "    security_context=security_context,\n",
    "    entrypoint=\"workflow\"\n",
    ") as w:\n",
    "    \n",
    "    # Secondly, a DAG is defined which shall be executed for each parameter. The inputs are defined in the Steps below. So this DAG acts like a function being defined and executed in a different step.\n",
    "    with DAG(name=\"pipeline\", inputs=[Parameter(name=\"args\")]) as pipeline:\n",
    "        \n",
    "        # The arguments for the scripts are passed as a dictionary, wherease the arguments for the 'param' parameter are taken from the input of the DAG\n",
    "        download = inca_download(arguments={\"param\":\"{{inputs.parameters.args}}\"},)\n",
    "\n",
    "        # The Artifact written with download also has to be given to the function.\n",
    "        process = inca_write(arguments=[{\"param\": \"{{inputs.parameters.args}}\"}, \n",
    "                                        download.get_artifact(\"inca-file\").with_name(\"inca-file\")],)\n",
    "\n",
    "        # Here the sequence of the steps is defined\n",
    "        download >> process\n",
    "\n",
    "    # As we defined \"workflow\" as the entrypoint in the CronWorkflow this part gets executed first, in contrast to DAGs Steps will be executed in the order they are in\n",
    "    with Steps(name=\"workflow\"):\n",
    "        # First the time dimension is extended in the zarr store\n",
    "        extend_time_dimension()\n",
    "\n",
    "        # Now the DAG is executed, it is used as a template, passing the inca_parameters as with_param and using \"{{item}}\" in arguments the DAG will be executed parallel for each parameter.\n",
    "        Step(name=\"parallel-pipelines\", template=pipeline, with_param=inca_parameters, arguments={\"args\":\"{{item}}\"})"
   ]
  },
  {
   "cell_type": "markdown",
   "id": "11f9eaed",
   "metadata": {},
   "source": [
    "The Workflow can be written to a yaml"
   ]
  },
  {
   "cell_type": "code",
   "execution_count": 8,
   "id": "98a28670",
   "metadata": {},
   "outputs": [],
   "source": [
    "with open(\"INCA_workflow.yaml\", \"w\") as f:\n",
    "    f.write(w.to_yaml())"
   ]
  },
  {
   "cell_type": "markdown",
   "id": "c61f9933",
   "metadata": {},
   "source": [
    "Or passed directly to ArgoWorkflows"
   ]
  },
  {
   "cell_type": "code",
   "execution_count": 29,
   "id": "bfb7181b",
   "metadata": {},
   "outputs": [
    {
     "data": {
      "text/plain": [
       "CronWorkflow(api_version=None, kind=None, metadata=ObjectMeta(annotations=None, cluster_name=None, creation_timestamp=Time(__root__=datetime.datetime(2025, 8, 5, 6, 15, 2, tzinfo=datetime.timezone.utc)), deletion_grace_period_seconds=None, deletion_timestamp=None, finalizers=None, generate_name='inca-monthly-', generation=1, labels={'workflows.argoproj.io/creator': 'system-serviceaccount-default-jenkins'}, managed_fields=[ManagedFieldsEntry(api_version='argoproj.io/v1alpha1', fields_type='FieldsV1', fields_v1=FieldsV1(), manager='argo', operation='Update', subresource=None, time=Time(__root__=datetime.datetime(2025, 8, 5, 6, 15, 2, tzinfo=datetime.timezone.utc)))], name='inca-monthly-ws44l', namespace='inca', owner_references=None, resource_version='37097073', self_link=None, uid='36f6b29b-09e7-4204-8134-8e0c13240a52'), spec=CronWorkflowSpec(concurrency_policy=None, failed_jobs_history_limit=None, schedule='0 6 10 * *', starting_deadline_seconds=None, successful_jobs_history_limit=None, suspend=None, timezone=None, workflow_metadata=None, workflow_spec=WorkflowSpec(active_deadline_seconds=None, affinity=None, archive_logs=None, arguments=Arguments(artifacts=None, parameters=None), artifact_gc=None, artifact_repository_ref=None, automount_service_account_token=None, dns_config=None, dns_policy=None, entrypoint='workflow', executor=None, hooks=None, host_aliases=None, host_network=None, image_pull_secrets=None, metrics=None, node_selector=None, on_exit=None, parallelism=None, pod_disruption_budget=None, pod_gc=None, pod_metadata=None, pod_priority=None, pod_priority_class_name=None, pod_spec_patch=None, priority=None, retry_strategy=None, scheduler_name=None, security_context=PodSecurityContext(fs_group=None, fs_group_change_policy=None, run_as_group=71473, run_as_non_root=None, run_as_user=74268, se_linux_options=None, seccomp_profile=None, supplemental_groups=None, sysctls=None, windows_options=None), service_account_name=None, shutdown=None, suspend=None, synchronization=None, template_defaults=None, templates=[Template(active_deadline_seconds=None, affinity=None, archive_location=None, automount_service_account_token=None, container=None, container_set=None, daemon=None, dag=DAGTemplate(fail_fast=None, target=None, tasks=[DAGTask(arguments=Arguments(artifacts=None, parameters=[Parameter(default=None, description=None, enum=None, global_name=None, name='param', value='{{inputs.parameters.args}}', value_from=None)]), continue_on=None, dependencies=None, depends=None, hooks=None, inline=None, name='inca-download', on_exit=None, template='inca-download', template_ref=None, when=None, with_items=None, with_param=None, with_sequence=None), DAGTask(arguments=Arguments(artifacts=[Artifact(archive=None, archive_logs=None, artifact_gc=None, artifactory=None, azure=None, deleted=None, from_='{{tasks.inca-download.outputs.artifacts.inca-file}}', from_expression=None, gcs=None, git=None, global_name=None, hdfs=None, http=None, mode=None, name='inca-file', optional=None, oss=None, path=None, raw=None, recurse_mode=None, s3=None, sub_path=None)], parameters=[Parameter(default=None, description=None, enum=None, global_name=None, name='param', value='{{inputs.parameters.args}}', value_from=None)]), continue_on=None, dependencies=None, depends='inca-download', hooks=None, inline=None, name='inca-write', on_exit=None, template='inca-write', template_ref=None, when=None, with_items=None, with_param=None, with_sequence=None)]), data=None, executor=None, fail_fast=None, host_aliases=None, http=None, init_containers=None, inputs=Inputs(artifacts=None, parameters=[Parameter(default=None, description=None, enum=None, global_name=None, name='args', value=None, value_from=None)]), memoize=None, metadata=Metadata(annotations=None, labels=None), metrics=None, name='pipeline', node_selector=None, outputs=Outputs(artifacts=None, exit_code=None, parameters=None, result=None), parallelism=None, plugin=None, pod_spec_patch=None, priority=None, priority_class_name=None, resource=None, retry_strategy=None, scheduler_name=None, script=None, security_context=None, service_account_name=None, sidecars=None, steps=None, suspend=None, synchronization=None, timeout=None, tolerations=None, volumes=None), Template(active_deadline_seconds=None, affinity=None, archive_location=None, automount_service_account_token=None, container=None, container_set=None, daemon=None, dag=None, data=None, executor=None, fail_fast=None, host_aliases=None, http=None, init_containers=None, inputs=Inputs(artifacts=None, parameters=[Parameter(default=None, description=None, enum=None, global_name=None, name='param', value=None, value_from=None)]), memoize=None, metadata=Metadata(annotations=None, labels=None), metrics=None, name='inca-download', node_selector=None, outputs=Outputs(artifacts=[Artifact(archive=ArchiveStrategy(none=NoneStrategy(), tar=None, zip=None), archive_logs=None, artifact_gc=None, artifactory=None, azure=None, deleted=None, from_=None, from_expression=None, gcs=None, git=None, global_name=None, hdfs=None, http=None, mode=None, name='inca-file', optional=None, oss=None, path='/tmp/INCA.nc', raw=None, recurse_mode=None, s3=None, sub_path=None)], exit_code=None, parameters=None, result=None), parallelism=None, plugin=None, pod_spec_patch=None, priority=None, priority_class_name=None, resource=None, retry_strategy=None, scheduler_name=None, script=ScriptTemplate(args=None, command=['python'], env=None, env_from=None, image='ghcr.io/oscipal/image_zarr:latest', image_pull_policy=None, lifecycle=None, liveness_probe=None, name='', ports=None, readiness_probe=None, resources=ResourceRequirements(limits=None, requests=None), security_context=None, source=\"import os\\nimport sys\\nsys.path.append(os.getcwd())\\nimport json\\ntry: param = json.loads(r'''{{inputs.parameters.param}}''')\\nexcept: param = r'''{{inputs.parameters.param}}'''\\n\\nfrom urllib.request import urlretrieve\\nimport datetime\\nym = (datetime.date.today() - datetime.timedelta(days=15)).strftime('%Y%m')\\nprint(ym)\\nurl = f'https://public.hub.geosphere.at/datahub/resources/inca-v1-1h-1km/filelisting/{param}/INCAL_HOURLY_{param}_{ym}.nc'\\nurlretrieve(url, f'/tmp/INCA.nc')\", startup_probe=None, stdin=None, stdin_once=None, termination_message_path=None, termination_message_policy=None, tty=None, volume_devices=None, volume_mounts=None, working_dir=None), security_context=None, service_account_name=None, sidecars=None, steps=None, suspend=None, synchronization=None, timeout=None, tolerations=None, volumes=None), Template(active_deadline_seconds=None, affinity=None, archive_location=None, automount_service_account_token=None, container=None, container_set=None, daemon=None, dag=None, data=None, executor=None, fail_fast=None, host_aliases=None, http=None, init_containers=None, inputs=Inputs(artifacts=[Artifact(archive=None, archive_logs=None, artifact_gc=None, artifactory=None, azure=None, deleted=None, from_=None, from_expression=None, gcs=None, git=None, global_name=None, hdfs=None, http=None, mode=None, name='inca-file', optional=None, oss=None, path='/tmp/INCA.nc', raw=None, recurse_mode=None, s3=None, sub_path=None)], parameters=[Parameter(default=None, description=None, enum=None, global_name=None, name='param', value=None, value_from=None), Parameter(default='/eodc/products/eodc/geosphere_inca/INCA.zarr', description=None, enum=None, global_name=None, name='store_path', value=None, value_from=None)]), memoize=None, metadata=Metadata(annotations=None, labels=None), metrics=None, name='inca-write', node_selector=None, outputs=Outputs(artifacts=None, exit_code=None, parameters=None, result=None), parallelism=None, plugin=None, pod_spec_patch=None, priority=None, priority_class_name=None, resource=None, retry_strategy=None, scheduler_name=None, script=ScriptTemplate(args=None, command=['python'], env=None, env_from=None, image='ghcr.io/oscipal/image_zarr:latest', image_pull_policy=None, lifecycle=None, liveness_probe=None, name='', ports=None, readiness_probe=None, resources=ResourceRequirements(limits=None, requests=None), security_context=None, source=\"import os\\nimport sys\\nsys.path.append(os.getcwd())\\nimport json\\ntry: param = json.loads(r'''{{inputs.parameters.param}}''')\\nexcept: param = r'''{{inputs.parameters.param}}'''\\ntry: store_path = json.loads(r'''{{inputs.parameters.store_path}}''')\\nexcept: store_path = r'''{{inputs.parameters.store_path}}'''\\n\\nimport xarray as xr\\nimport numpy as np\\nimport zarr\\nimport pandas as pd\\nartifact_path = f'/tmp/INCA.nc'\\n\\ndef get_idx(array1, array2):\\n    min_idx = np.where(array1 == array2[0])[0][0]\\n    max_idx = np.where(array1 == array2[-1])[0][0] + 1\\n    return (min_idx, max_idx)\\nstore = zarr.storage.LocalStore(store_path)\\ngroup = zarr.group(store=store)\\ndtype = group[param].dtype\\nfill_value = group[param].attrs.get('_FillValue')\\nfreq = group.attrs.get('freq')\\nx_extent = group['x'][:]\\ny_extent = group['y'][:]\\norigin = xr.open_zarr(store_path).time[0].values\\ndata = xr.open_dataset(artifact_path, mask_and_scale=False).load()\\nx_min, x_max = get_idx(x_extent, data['x'].values)\\ny_min, y_max = get_idx(y_extent, data['y'].values)\\ntime_min, time_max = (data.time.values[0], data.time.values[-1])\\ntime_delta_min, time_delta_max = ((time_min.astype('datetime64[h]') - origin.astype('datetime64[h]')).astype('int64'), (time_max.astype('datetime64[h]') - origin.astype('datetime64[h]')).astype('int64') + 1)\\nfull_range = pd.date_range(time_min, time_max, freq=freq).values.astype('datetime64[ns]')\\nfor value in data.time.values:\\n    if value in set(full_range):\\n        continue\\n    else:\\n        empty_array = np.full((full_range.shape[0], data['x'].values.shape[0], data['y'].values.shape[0]), fill_value=fill_value, dtype=dtype)\\n        template = xr.Dataset({f'{param}': (('time', 'x', 'y'), empty_array)}, coords={'time': full_range, 'x': data['x'].values, 'y': data['y'].values})\\n        data = data.combine_first(template)\\n        break\\ngroup[param][time_delta_min:time_delta_max, y_min:y_max, x_min:x_max] = data[param].values\", startup_probe=None, stdin=None, stdin_once=None, termination_message_path=None, termination_message_policy=None, tty=None, volume_devices=None, volume_mounts=[VolumeMount(mount_path='/eodc', mount_propagation=None, name='eodc-mount', read_only=None, sub_path=None, sub_path_expr=None)], working_dir=None), security_context=None, service_account_name=None, sidecars=None, steps=None, suspend=None, synchronization=None, timeout=None, tolerations=None, volumes=None), Template(active_deadline_seconds=None, affinity=None, archive_location=None, automount_service_account_token=None, container=None, container_set=None, daemon=None, dag=None, data=None, executor=None, fail_fast=None, host_aliases=None, http=None, init_containers=None, inputs=Inputs(artifacts=None, parameters=None), memoize=None, metadata=Metadata(annotations=None, labels=None), metrics=None, name='workflow', node_selector=None, outputs=Outputs(artifacts=None, exit_code=None, parameters=None, result=None), parallelism=None, plugin=None, pod_spec_patch=None, priority=None, priority_class_name=None, resource=None, retry_strategy=None, scheduler_name=None, script=None, security_context=None, service_account_name=None, sidecars=None, steps=[ParallelSteps(__root__=[WorkflowStep(arguments=Arguments(artifacts=None, parameters=None), continue_on=None, hooks=None, inline=None, name='extend-time-dimension', on_exit=None, template='extend-time-dimension', template_ref=None, when=None, with_items=None, with_param=None, with_sequence=None)]), ParallelSteps(__root__=[WorkflowStep(arguments=Arguments(artifacts=None, parameters=[Parameter(default=None, description=None, enum=None, global_name=None, name='args', value='{{item}}', value_from=None)]), continue_on=None, hooks=None, inline=None, name='parallel-pipelines', on_exit=None, template='pipeline', template_ref=None, when=None, with_items=None, with_param='[\"RR\", \"T2M\", \"TD2M\", \"P0\", \"UU\", \"VV\", \"RH2M\", \"GL\"]', with_sequence=None)])], suspend=None, synchronization=None, timeout=None, tolerations=None, volumes=None), Template(active_deadline_seconds=None, affinity=None, archive_location=None, automount_service_account_token=None, container=None, container_set=None, daemon=None, dag=None, data=None, executor=None, fail_fast=None, host_aliases=None, http=None, init_containers=None, inputs=Inputs(artifacts=None, parameters=[Parameter(default='/eodc/products/eodc/geosphere_inca/INCA.zarr', description=None, enum=None, global_name=None, name='store_path', value=None, value_from=None)]), memoize=None, metadata=Metadata(annotations=None, labels=None), metrics=None, name='extend-time-dimension', node_selector=None, outputs=Outputs(artifacts=None, exit_code=None, parameters=None, result=None), parallelism=None, plugin=None, pod_spec_patch=None, priority=None, priority_class_name=None, resource=None, retry_strategy=None, scheduler_name=None, script=ScriptTemplate(args=None, command=['python'], env=None, env_from=None, image='ghcr.io/oscipal/image_zarr:latest', image_pull_policy=None, lifecycle=None, liveness_probe=None, name='', ports=None, readiness_probe=None, resources=ResourceRequirements(limits=None, requests=None), security_context=None, source=\"import os\\nimport sys\\nsys.path.append(os.getcwd())\\nimport json\\ntry: store_path = json.loads(r'''{{inputs.parameters.store_path}}''')\\nexcept: store_path = r'''{{inputs.parameters.store_path}}'''\\n\\nimport datetime\\nimport numpy as np\\nimport zarr\\nnow = datetime.datetime.now()\\nnow_np = np.datetime64(now).astype('datetime64[h]')\\norigin = np.datetime64('2011-03-15T00:00:00').astype('datetime64[h]')\\nnew_shape = int((now_np - origin).astype(int))\\nnew_extent = np.arange(0, new_shape, 1)\\nstore = zarr.storage.LocalStore(store_path)\\ngroup = zarr.group(store=store)\\narray_names = set(group.array_keys())\\ncoords = {'time', 'x', 'y'}\\ndata_arrays = array_names - coords\\ngroup['time'].resize(new_shape)\\nfor array in data_arrays:\\n    group_shape = group[array].shape\\n    group[array].resize((new_shape, group_shape[1], group_shape[2]))\\nzarr.consolidate_metadata(store)\\nstore = zarr.storage.LocalStore(store_path)\\ngroup = zarr.group(store=store)\\ngroup['time'][:] = new_extent\", startup_probe=None, stdin=None, stdin_once=None, termination_message_path=None, termination_message_policy=None, tty=None, volume_devices=None, volume_mounts=[VolumeMount(mount_path='/eodc', mount_propagation=None, name='eodc-mount', read_only=None, sub_path=None, sub_path_expr=None)], working_dir=None), security_context=None, service_account_name=None, sidecars=None, steps=None, suspend=None, synchronization=None, timeout=None, tolerations=None, volumes=None)], tolerations=None, ttl_strategy=None, volume_claim_gc=None, volume_claim_templates=None, volumes=[Volume(aws_elastic_block_store=None, azure_disk=None, azure_file=None, cephfs=None, cinder=None, config_map=None, csi=None, downward_api=None, empty_dir=None, ephemeral=None, fc=None, flex_volume=None, flocker=None, gce_persistent_disk=None, git_repo=None, glusterfs=None, host_path=None, iscsi=None, name='eodc-mount', nfs=None, persistent_volume_claim=PersistentVolumeClaimVolumeSource(claim_name='eodc-nfs-claim', read_only=None), photon_persistent_disk=None, portworx_volume=None, projected=None, quobyte=None, rbd=None, scale_io=None, secret=None, storageos=None, vsphere_volume=None)], workflow_metadata=None, workflow_template_ref=None)), status=CronWorkflowStatus(active=None, conditions=None, last_scheduled_time=None))"
      ]
     },
     "execution_count": 29,
     "metadata": {},
     "output_type": "execute_result"
    }
   ],
   "source": [
    "w.create()"
   ]
  },
  {
   "cell_type": "code",
   "execution_count": null,
   "id": "11aed477",
   "metadata": {},
   "outputs": [],
   "source": []
  }
 ],
 "metadata": {
  "kernelspec": {
   "display_name": "zarr",
   "language": "python",
   "name": "python3"
  },
  "language_info": {
   "codemirror_mode": {
    "name": "ipython",
    "version": 3
   },
   "file_extension": ".py",
   "mimetype": "text/x-python",
   "name": "python",
   "nbconvert_exporter": "python",
   "pygments_lexer": "ipython3",
   "version": "3.11.4"
  }
 },
 "nbformat": 4,
 "nbformat_minor": 5
}
