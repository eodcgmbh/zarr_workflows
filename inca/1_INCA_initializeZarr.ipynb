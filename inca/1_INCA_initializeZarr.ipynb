{
 "cells": [
  {
   "cell_type": "markdown",
   "id": "d387c208",
   "metadata": {},
   "source": [
    "### Intialize an empty zarr store for INCA data"
   ]
  },
  {
   "cell_type": "markdown",
   "id": "89f769a2",
   "metadata": {},
   "source": [
    "#### Necessary imports"
   ]
  },
  {
   "cell_type": "code",
   "execution_count": 1,
   "id": "a11f9d80",
   "metadata": {},
   "outputs": [],
   "source": [
    "import numpy as np\n",
    "import zarr\n",
    "from datetime import datetime\n",
    "\n",
    "import sys\n",
    "\n",
    "if not sys.warnoptions:\n",
    "    import warnings\n",
    "    warnings.filterwarnings(\"ignore\", category=UserWarning)"
   ]
  },
  {
   "cell_type": "markdown",
   "id": "d7b6ad72",
   "metadata": {},
   "source": [
    "#### Initialize zarr store"
   ]
  },
  {
   "cell_type": "markdown",
   "id": "26bb8530",
   "metadata": {},
   "source": [
    "Define the path to your store"
   ]
  },
  {
   "cell_type": "code",
   "execution_count": 2,
   "id": "15c9b0a3",
   "metadata": {},
   "outputs": [],
   "source": [
    "store_path = \"INCA.zarr\""
   ]
  },
  {
   "cell_type": "markdown",
   "id": "920860de",
   "metadata": {},
   "source": [
    "To initialize the a zarr store where the time dimension goes until now, the number of timesteps between the origin date to now is defined"
   ]
  },
  {
   "cell_type": "code",
   "execution_count": null,
   "id": "04b5f4b3",
   "metadata": {},
   "outputs": [],
   "source": [
    "now = datetime.now()\n",
    "now_np = np.datetime64(now).astype('datetime64[h]')\n",
    "origin = np.datetime64(\"2011-03-15T00:00:00\").astype(\"datetime64[h]\")\n",
    "timesteps = int((now_np-origin).astype(int))"
   ]
  },
  {
   "cell_type": "markdown",
   "id": "c921c92a",
   "metadata": {},
   "source": [
    "The extent of each coordinate, as given in the original dataset is defined"
   ]
  },
  {
   "cell_type": "code",
   "execution_count": null,
   "id": "95b3a6cf",
   "metadata": {},
   "outputs": [],
   "source": [
    "x_extent = np.arange(20000, 721000, 1000)\n",
    "y_extent = np.arange(220000, 621000, 1000)\n",
    "time_extent = np.arange(0,timesteps,1)"
   ]
  },
  {
   "cell_type": "markdown",
   "id": "caa2bab3",
   "metadata": {},
   "source": [
    "The shape of the individual dataarrays, as well as the shape of the coordinate dimensions are defined. Also the shard and chunk shape is defined so that each shard is ~50 MiB. The chunk shape is defined to fit the input data and also allow a fast read time."
   ]
  },
  {
   "cell_type": "code",
   "execution_count": null,
   "id": "8eace600",
   "metadata": {},
   "outputs": [],
   "source": [
    "shape = (time_extent.shape[0],y_extent.shape[0],x_extent.shape[0])\n",
    "\n",
    "chunk_shape = (720, 100,100)\n",
    "shard_shape = (3600,100,100)\n",
    "shard_shape_RR = (7200,100,100) \n",
    "\n",
    "x_shape = x_extent.shape\n",
    "y_shape = y_extent.shape\n",
    "time_shape = time_extent.shape"
   ]
  },
  {
   "cell_type": "markdown",
   "id": "087447d8",
   "metadata": {},
   "source": [
    "The store is created and metadata set, if you set overwrite to *True* an already created store can be overwritten"
   ]
  },
  {
   "cell_type": "code",
   "execution_count": null,
   "id": "90a576cc",
   "metadata": {},
   "outputs": [],
   "source": [
    "overwrite=False\n",
    "store = zarr.storage.LocalStore(store_path)\n",
    "root = zarr.create_group(store=store, overwrite=overwrite, \n",
    "                         attributes={\"Conventions\": \"CF-1.7\",\n",
    "                                    \"name\": \"incal-hourly\",\n",
    "                                    \"author\": \"Alexander Kann (alexander.kann@zamg.ac.at), Benedikt Bica (benedikt.bica@zamg.ac.at)\",\n",
    "                                    \"freq\": \"1H\",\n",
    "                                    \"spatial_resolution\": 1000,\n",
    "                                    \"references\": \"https://data.hub.geosphere.at/dataset/inca-v1-1h-1km\",\n",
    "                                    \"institution\": \"GeoSphere Austria\",\n",
    "                                    \"history\": \"Original data produced by GeoSphere Austria\",\n",
    "                                    \"source\": \"modeled data\",\n",
    "                                    \"crs\": \"EPSG: 31287\",\n",
    "                                    \"grid_mapping\": \"lambert_conformal_conic\",\n",
    "                                    \"spatial_domain\": \"INCAL\",\n",
    "                                    \"title\": \"INCA analysis - large domain\",\n",
    "                                    \"Version\":1})"
   ]
  },
  {
   "cell_type": "markdown",
   "id": "758d2b3e",
   "metadata": {},
   "source": [
    "The individual data arrays, as well as the coordinate arrays, are created"
   ]
  },
  {
   "cell_type": "code",
   "execution_count": null,
   "id": "56fb19ef",
   "metadata": {},
   "outputs": [],
   "source": [
    "root.create_array(name=\"TD2M\",\n",
    "                    shape=shape,\n",
    "                    shards=shard_shape,\n",
    "                    chunks=chunk_shape,\n",
    "                    compressors = zarr.codecs.BloscCodec(),\n",
    "                    dtype=\"int16\",\n",
    "                    fill_value=-9999,\n",
    "                    dimension_names=[\"time\", \"y\", \"x\"],\n",
    "                    config={\"write_empty_chunks\":False},\n",
    "                    attributes={\"_FillValue\": -9999,\n",
    "                                \"scale_factor\": 0.01,\n",
    "                                \"cell_method\": \"\",\n",
    "                                \"description\": \"dew point temperature 2m above ground\",\n",
    "                                \"esri_pe_string\": \"PROJCS[\\\"MGI / Austria Lambert\\\",GEOGCS[\\\"MGI\\\",DATUM[\\\"Militar_Geographische_Institute\\\",SPHEROID[\\\"Bessel 1841\\\",6377397.155,299.1528128,AUTHORITY[\\\"EPSG\\\",\\\"7004\\\"]],TOWGS84[577.326,90.129,463.919,5.137,1.474,5.297,2.4232],AUTHORITY[\\\"EPSG\\\",\\\"6312\\\"]],PRIMEM[\\\"Greenwich\\\",0,AUTHORITY[\\\"EPSG\\\",\\\"8901\\\"]],UNIT[\\\"degree\\\",0.0174532925199433,AUTHORITY[\\\"EPSG\\\",\\\"9122\\\"]],AUTHORITY[\\\"EPSG\\\",\\\"4312\\\"]],PROJECTION[\\\"Lambert_Conformal_Conic_2SP\\\"],PARAMETER[\\\"standard_parallel_1\\\",49],PARAMETER[\\\"standard_parallel_2\\\",46],PARAMETER[\\\"latitude_of_origin\\\",47.5],PARAMETER[\\\"central_meridian\\\",13.33333333333333],PARAMETER[\\\"false_easting\\\",400000],PARAMETER[\\\"false_northing\\\",400000],UNIT[\\\"metre\\\",1,AUTHORITY[\\\"EPSG\\\",\\\"9001\\\"]],AUTHORITY[\\\"EPSG\\\",\\\"31287\\\"]]\",\n",
    "                                \"grid_mapping\": \"lambert_conformal_conic\",\n",
    "                                \"long_name\": \"dew point temperature\",\n",
    "                                \"standard_name\": \"dew_point_temperature\",\n",
    "                                \"units\": \"degree_Celsius\"},\n",
    "                    overwrite=overwrite)\n",
    "\n",
    "root.create_array(name=\"VV\",\n",
    "                    shape=shape,\n",
    "                    shards=shard_shape,\n",
    "                    chunks=chunk_shape,\n",
    "                    compressors = zarr.codecs.BloscCodec(),\n",
    "                    dtype=\"int16\",\n",
    "                    fill_value=-9999,\n",
    "                    dimension_names=[\"time\", \"y\", \"x\"],\n",
    "                    config={\"write_empty_chunks\":False},\n",
    "                    attributes={\"_FillValue\": -9999,\n",
    "                                \"scale_factor\": 0.01,\n",
    "                                \"cell_method\": \"\",\n",
    "                                \"description\": \"wind speed in northward direction\",\n",
    "                                \"esri_pe_string\": \"PROJCS[\\\"MGI / Austria Lambert\\\",GEOGCS[\\\"MGI\\\",DATUM[\\\"Militar_Geographische_Institute\\\",SPHEROID[\\\"Bessel 1841\\\",6377397.155,299.1528128,AUTHORITY[\\\"EPSG\\\",\\\"7004\\\"]],TOWGS84[577.326,90.129,463.919,5.137,1.474,5.297,2.4232],AUTHORITY[\\\"EPSG\\\",\\\"6312\\\"]],PRIMEM[\\\"Greenwich\\\",0,AUTHORITY[\\\"EPSG\\\",\\\"8901\\\"]],UNIT[\\\"degree\\\",0.0174532925199433,AUTHORITY[\\\"EPSG\\\",\\\"9122\\\"]],AUTHORITY[\\\"EPSG\\\",\\\"4312\\\"]],PROJECTION[\\\"Lambert_Conformal_Conic_2SP\\\"],PARAMETER[\\\"standard_parallel_1\\\",49],PARAMETER[\\\"standard_parallel_2\\\",46],PARAMETER[\\\"latitude_of_origin\\\",47.5],PARAMETER[\\\"central_meridian\\\",13.33333333333333],PARAMETER[\\\"false_easting\\\",400000],PARAMETER[\\\"false_northing\\\",400000],UNIT[\\\"metre\\\",1,AUTHORITY[\\\"EPSG\\\",\\\"9001\\\"]],AUTHORITY[\\\"EPSG\\\",\\\"31287\\\"]]\",\n",
    "                                \"grid_mapping\": \"lambert_conformal_conic\",\n",
    "                                \"long_name\": \"wind speed in northward direction\",\n",
    "                                \"standard_name\": \"y_wind\",\n",
    "                                \"units\": \"m s-1\"},\n",
    "                    overwrite=overwrite)\n",
    "\n",
    "root.create_array(name=\"UU\",\n",
    "                    shape=shape,\n",
    "                    shards=shard_shape,\n",
    "                    chunks=chunk_shape,\n",
    "                    compressors = zarr.codecs.BloscCodec(),\n",
    "                    dtype=\"int16\",\n",
    "                    fill_value=-9999,\n",
    "                    dimension_names=[\"time\", \"y\", \"x\"],\n",
    "                    config={\"write_empty_chunks\":False},\n",
    "                    attributes={\"_FillValue\": -9999,\n",
    "                                \"scale_factor\": 0.01,\n",
    "                                \"cell_method\": \"\",\n",
    "                                \"description\": \"wind speed in eastward direction\",\n",
    "                                \"esri_pe_string\": \"PROJCS[\\\"MGI / Austria Lambert\\\",GEOGCS[\\\"MGI\\\",DATUM[\\\"Militar_Geographische_Institute\\\",SPHEROID[\\\"Bessel 1841\\\",6377397.155,299.1528128,AUTHORITY[\\\"EPSG\\\",\\\"7004\\\"]],TOWGS84[577.326,90.129,463.919,5.137,1.474,5.297,2.4232],AUTHORITY[\\\"EPSG\\\",\\\"6312\\\"]],PRIMEM[\\\"Greenwich\\\",0,AUTHORITY[\\\"EPSG\\\",\\\"8901\\\"]],UNIT[\\\"degree\\\",0.0174532925199433,AUTHORITY[\\\"EPSG\\\",\\\"9122\\\"]],AUTHORITY[\\\"EPSG\\\",\\\"4312\\\"]],PROJECTION[\\\"Lambert_Conformal_Conic_2SP\\\"],PARAMETER[\\\"standard_parallel_1\\\",49],PARAMETER[\\\"standard_parallel_2\\\",46],PARAMETER[\\\"latitude_of_origin\\\",47.5],PARAMETER[\\\"central_meridian\\\",13.33333333333333],PARAMETER[\\\"false_easting\\\",400000],PARAMETER[\\\"false_northing\\\",400000],UNIT[\\\"metre\\\",1,AUTHORITY[\\\"EPSG\\\",\\\"9001\\\"]],AUTHORITY[\\\"EPSG\\\",\\\"31287\\\"]]\",\n",
    "                                \"grid_mapping\": \"lambert_conformal_conic\",\n",
    "                                \"long_name\": \"wind speed in eastward direction\",\n",
    "                                \"standard_name\": \"x_wind\",\n",
    "                                \"units\": \"m s-1\"},\n",
    "                    overwrite=overwrite)\n",
    "\n",
    "root.create_array(name=\"T2M\",\n",
    "                    shape=shape,\n",
    "                    shards=shard_shape,\n",
    "                    chunks=chunk_shape,\n",
    "                    compressors = zarr.codecs.BloscCodec(),\n",
    "                    dtype=\"int16\",\n",
    "                    fill_value=-9999,\n",
    "                    dimension_names=[\"time\", \"y\", \"x\"],\n",
    "                    config={\"write_empty_chunks\":False},\n",
    "                    attributes={\"_FillValue\": -9999,\n",
    "                                \"scale_factor\": 0.01,\n",
    "                                \"cell_method\": \"\",\n",
    "                                \"description\": \"air temperature 2m above ground\",\n",
    "                                \"esri_pe_string\": \"PROJCS[\\\"MGI / Austria Lambert\\\",GEOGCS[\\\"MGI\\\",DATUM[\\\"Militar_Geographische_Institute\\\",SPHEROID[\\\"Bessel 1841\\\",6377397.155,299.1528128,AUTHORITY[\\\"EPSG\\\",\\\"7004\\\"]],TOWGS84[577.326,90.129,463.919,5.137,1.474,5.297,2.4232],AUTHORITY[\\\"EPSG\\\",\\\"6312\\\"]],PRIMEM[\\\"Greenwich\\\",0,AUTHORITY[\\\"EPSG\\\",\\\"8901\\\"]],UNIT[\\\"degree\\\",0.0174532925199433,AUTHORITY[\\\"EPSG\\\",\\\"9122\\\"]],AUTHORITY[\\\"EPSG\\\",\\\"4312\\\"]],PROJECTION[\\\"Lambert_Conformal_Conic_2SP\\\"],PARAMETER[\\\"standard_parallel_1\\\",49],PARAMETER[\\\"standard_parallel_2\\\",46],PARAMETER[\\\"latitude_of_origin\\\",47.5],PARAMETER[\\\"central_meridian\\\",13.33333333333333],PARAMETER[\\\"false_easting\\\",400000],PARAMETER[\\\"false_northing\\\",400000],UNIT[\\\"metre\\\",1,AUTHORITY[\\\"EPSG\\\",\\\"9001\\\"]],AUTHORITY[\\\"EPSG\\\",\\\"31287\\\"]]\",\n",
    "                                \"grid_mapping\": \"lambert_conformal_conic\",\n",
    "                                \"long_name\": \"air temperature\",\n",
    "                                \"standard_name\": \"surface_temperature\",\n",
    "                                \"units\": \"degree_Celsius\"},\n",
    "                    overwrite=overwrite)\n",
    "\n",
    "root.create_array(name=\"RH2M\",\n",
    "                    shape=shape,\n",
    "                    shards=shard_shape,\n",
    "                    chunks=chunk_shape,\n",
    "                    compressors = zarr.codecs.BloscCodec(),\n",
    "                    dtype=\"int16\",\n",
    "                    fill_value=-99,\n",
    "                    dimension_names=[\"time\", \"y\", \"x\"],\n",
    "                    config={\"write_empty_chunks\":False},\n",
    "                    attributes={\"_FillValue\": -99,\n",
    "                                \"scale_factor\": 0.01,\n",
    "                                \"cell_method\": \"\",\n",
    "                                \"description\": \"relative humidity\",\n",
    "                                \"esri_pe_string\": \"PROJCS[\\\"MGI / Austria Lambert\\\",GEOGCS[\\\"MGI\\\",DATUM[\\\"Militar_Geographische_Institute\\\",SPHEROID[\\\"Bessel 1841\\\",6377397.155,299.1528128,AUTHORITY[\\\"EPSG\\\",\\\"7004\\\"]],TOWGS84[577.326,90.129,463.919,5.137,1.474,5.297,2.4232],AUTHORITY[\\\"EPSG\\\",\\\"6312\\\"]],PRIMEM[\\\"Greenwich\\\",0,AUTHORITY[\\\"EPSG\\\",\\\"8901\\\"]],UNIT[\\\"degree\\\",0.0174532925199433,AUTHORITY[\\\"EPSG\\\",\\\"9122\\\"]],AUTHORITY[\\\"EPSG\\\",\\\"4312\\\"]],PROJECTION[\\\"Lambert_Conformal_Conic_2SP\\\"],PARAMETER[\\\"standard_parallel_1\\\",49],PARAMETER[\\\"standard_parallel_2\\\",46],PARAMETER[\\\"latitude_of_origin\\\",47.5],PARAMETER[\\\"central_meridian\\\",13.33333333333333],PARAMETER[\\\"false_easting\\\",400000],PARAMETER[\\\"false_northing\\\",400000],UNIT[\\\"metre\\\",1,AUTHORITY[\\\"EPSG\\\",\\\"9001\\\"]],AUTHORITY[\\\"EPSG\\\",\\\"31287\\\"]]\",\n",
    "                                \"grid_mapping\": \"lambert_conformal_conic\",\n",
    "                                \"long_name\": \"relative humidity\",\n",
    "                                \"standard_name\": \"relative_humidity\",\n",
    "                                \"units\": \"percent\"},\n",
    "                    overwrite=overwrite)\n",
    "\n",
    "root.create_array(name=\"P0\",\n",
    "                    shape=shape,\n",
    "                    shards=shard_shape,\n",
    "                    chunks=chunk_shape,\n",
    "                    compressors = zarr.codecs.BloscCodec(),\n",
    "                    dtype=\"int32\",\n",
    "                    fill_value=-999,\n",
    "                    dimension_names=[\"time\", \"y\", \"x\"],\n",
    "                    config={\"write_empty_chunks\":False},\n",
    "                    attributes={\"_FillValue\": -999,\n",
    "                                \"scale_factor\": 0.01,\n",
    "                                \"cell_method\": \"\",\n",
    "                                \"description\": \"mean sea level pressure\",\n",
    "                                \"esri_pe_string\": \"PROJCS[\\\"MGI / Austria Lambert\\\",GEOGCS[\\\"MGI\\\",DATUM[\\\"Militar_Geographische_Institute\\\",SPHEROID[\\\"Bessel 1841\\\",6377397.155,299.1528128,AUTHORITY[\\\"EPSG\\\",\\\"7004\\\"]],TOWGS84[577.326,90.129,463.919,5.137,1.474,5.297,2.4232],AUTHORITY[\\\"EPSG\\\",\\\"6312\\\"]],PRIMEM[\\\"Greenwich\\\",0,AUTHORITY[\\\"EPSG\\\",\\\"8901\\\"]],UNIT[\\\"degree\\\",0.0174532925199433,AUTHORITY[\\\"EPSG\\\",\\\"9122\\\"]],AUTHORITY[\\\"EPSG\\\",\\\"4312\\\"]],PROJECTION[\\\"Lambert_Conformal_Conic_2SP\\\"],PARAMETER[\\\"standard_parallel_1\\\",49],PARAMETER[\\\"standard_parallel_2\\\",46],PARAMETER[\\\"latitude_of_origin\\\",47.5],PARAMETER[\\\"central_meridian\\\",13.33333333333333],PARAMETER[\\\"false_easting\\\",400000],PARAMETER[\\\"false_northing\\\",400000],UNIT[\\\"metre\\\",1,AUTHORITY[\\\"EPSG\\\",\\\"9001\\\"]],AUTHORITY[\\\"EPSG\\\",\\\"31287\\\"]]\",\n",
    "                                \"grid_mapping\": \"lambert_conformal_conic\",\n",
    "                                \"long_name\": \"mean sea level pressure\",\n",
    "                                \"standard_name\": \"air_pressure_at_mean_sea_level\",\n",
    "                                \"units\": \"Pa\"},\n",
    "                    overwrite=overwrite)\n",
    "\n",
    "root.create_array(name=\"GL\",\n",
    "                    shape=shape,\n",
    "                    shards=shard_shape,\n",
    "                    chunks=chunk_shape,\n",
    "                    compressors = zarr.codecs.BloscCodec(),\n",
    "                    dtype=\"int32\",\n",
    "                    fill_value=-999,\n",
    "                    dimension_names=[\"time\", \"y\", \"x\"],\n",
    "                    config={\"write_empty_chunks\":False},\n",
    "                    attributes={\"_FillValue\": -999,\n",
    "                                \"scale_factor\": 0.01,\n",
    "                                \"cell_method\": \"\",\n",
    "                                \"description\": \"global radiation\",\n",
    "                                \"esri_pe_string\": \"PROJCS[\\\"MGI / Austria Lambert\\\",GEOGCS[\\\"MGI\\\",DATUM[\\\"Militar_Geographische_Institute\\\",SPHEROID[\\\"Bessel 1841\\\",6377397.155,299.1528128,AUTHORITY[\\\"EPSG\\\",\\\"7004\\\"]],TOWGS84[577.326,90.129,463.919,5.137,1.474,5.297,2.4232],AUTHORITY[\\\"EPSG\\\",\\\"6312\\\"]],PRIMEM[\\\"Greenwich\\\",0,AUTHORITY[\\\"EPSG\\\",\\\"8901\\\"]],UNIT[\\\"degree\\\",0.0174532925199433,AUTHORITY[\\\"EPSG\\\",\\\"9122\\\"]],AUTHORITY[\\\"EPSG\\\",\\\"4312\\\"]],PROJECTION[\\\"Lambert_Conformal_Conic_2SP\\\"],PARAMETER[\\\"standard_parallel_1\\\",49],PARAMETER[\\\"standard_parallel_2\\\",46],PARAMETER[\\\"latitude_of_origin\\\",47.5],PARAMETER[\\\"central_meridian\\\",13.33333333333333],PARAMETER[\\\"false_easting\\\",400000],PARAMETER[\\\"false_northing\\\",400000],UNIT[\\\"metre\\\",1,AUTHORITY[\\\"EPSG\\\",\\\"9001\\\"]],AUTHORITY[\\\"EPSG\\\",\\\"31287\\\"]]\",\n",
    "                                \"grid_mapping\": \"lambert_conformal_conic\",\n",
    "                                \"long_name\": \"global radiation\",\n",
    "                                \"standard_name\": \"surface_downwelling_shortwave_flux_in_air\",\n",
    "                                \"units\": \"W m-2\"},\n",
    "                    overwrite=overwrite)\n",
    "\n",
    "root.create_array(name=\"RR\",\n",
    "                    shape=shape,\n",
    "                    shards=shard_shape_RR,\n",
    "                    chunks=chunk_shape,\n",
    "                    compressors = zarr.codecs.BloscCodec(),\n",
    "                    dtype=\"int32\",\n",
    "                    fill_value=-999,\n",
    "                    dimension_names=[\"time\", \"y\", \"x\"],\n",
    "                    config={\"write_empty_chunks\":False},\n",
    "                    attributes={\"_FillValue\": -999,\n",
    "                                \"scale_factor\": 0.001,\n",
    "                                \"cell_method\": \"time: sum\",\n",
    "                                \"description\": \"1-hour precipitation sum\",\n",
    "                                \"esri_pe_string\": \"PROJCS[\\\"MGI / Austria Lambert\\\",GEOGCS[\\\"MGI\\\",DATUM[\\\"Militar_Geographische_Institute\\\",SPHEROID[\\\"Bessel 1841\\\",6377397.155,299.1528128,AUTHORITY[\\\"EPSG\\\",\\\"7004\\\"]],TOWGS84[577.326,90.129,463.919,5.137,1.474,5.297,2.4232],AUTHORITY[\\\"EPSG\\\",\\\"6312\\\"]],PRIMEM[\\\"Greenwich\\\",0,AUTHORITY[\\\"EPSG\\\",\\\"8901\\\"]],UNIT[\\\"degree\\\",0.0174532925199433,AUTHORITY[\\\"EPSG\\\",\\\"9122\\\"]],AUTHORITY[\\\"EPSG\\\",\\\"4312\\\"]],PROJECTION[\\\"Lambert_Conformal_Conic_2SP\\\"],PARAMETER[\\\"standard_parallel_1\\\",49],PARAMETER[\\\"standard_parallel_2\\\",46],PARAMETER[\\\"latitude_of_origin\\\",47.5],PARAMETER[\\\"central_meridian\\\",13.33333333333333],PARAMETER[\\\"false_easting\\\",400000],PARAMETER[\\\"false_northing\\\",400000],UNIT[\\\"metre\\\",1,AUTHORITY[\\\"EPSG\\\",\\\"9001\\\"]],AUTHORITY[\\\"EPSG\\\",\\\"31287\\\"]]\",\n",
    "                                \"grid_mapping\": \"lambert_conformal_conic\",\n",
    "                                \"long_name\": \"1-hour precipitation sum\",\n",
    "                                \"standard_name\": \"precipitation_amount\",\n",
    "                                \"units\": \"kg m-2\"},\n",
    "                    overwrite=overwrite)\n",
    "\n",
    "x_array = root.create_array(name=\"x\",\n",
    "                shape=x_shape,\n",
    "                chunks=x_shape,\n",
    "                dtype=\"float64\",\n",
    "                dimension_names=[\"x\"],\n",
    "                attributes={\"_FillValue\": \"AAAAAAAA+H8=\", #fill value is NaN\n",
    "                            \"axis\": \"X\",\n",
    "                            \"long_name\": \"x coordinate of projection\",\n",
    "                            \"standard_name\": \"projection_x_coordinate\",\n",
    "                            \"units\": \"m\"},\n",
    "                overwrite=overwrite)\n",
    "\n",
    "y_array = root.create_array(name=\"y\",\n",
    "                shape=y_shape,\n",
    "                chunks=y_shape,\n",
    "                dtype=\"float64\",\n",
    "                dimension_names=[\"y\"],\n",
    "                attributes={\"_FillValue\": \"AAAAAAAA+H8=\", #fill value is NaN\n",
    "                            \"axis\": \"Y\",\n",
    "                            \"long_name\": \"y coordinate of projection\",\n",
    "                            \"standard_name\": \"projection_y_coordinate\",\n",
    "                            \"units\": \"m\"},\n",
    "                overwrite=overwrite)\n",
    "\n",
    "time_array = root.create_array(name=\"time\",\n",
    "                shape=time_shape,\n",
    "                chunks=time_shape,\n",
    "                dtype=\"int64\",\n",
    "                dimension_names=[\"time\"],\n",
    "                attributes={\"units\": \"hours since 2011-03-15 00:00:00\",\n",
    "                            \"calendar\": \"proleptic_gregorian\",\n",
    "                            \"long_name\": \"time_of_measurement\",\n",
    "                            \"standard_name\": \"time\"},\n",
    "                overwrite=overwrite)"
   ]
  },
  {
   "cell_type": "markdown",
   "id": "1c1362c4",
   "metadata": {},
   "source": [
    "The coordinate arrays are filled with their respective values, and the metadata is consolidated to finish initializing the empty zarr store. Now data can be written to the data arrays."
   ]
  },
  {
   "cell_type": "code",
   "execution_count": null,
   "id": "6de31875",
   "metadata": {},
   "outputs": [],
   "source": [
    "x_array[:] = x_extent\n",
    "y_array[:] = y_extent\n",
    "time_array[:] = time_extent\n",
    "zarr.consolidate_metadata(store)"
   ]
  },
  {
   "cell_type": "markdown",
   "id": "5d3ea165",
   "metadata": {},
   "source": [
    "#### Extend time dimension"
   ]
  },
  {
   "cell_type": "markdown",
   "id": "dbaac9f4",
   "metadata": {},
   "source": [
    "If the time dimension needs to be extended, this code can be used to extend up until now."
   ]
  },
  {
   "cell_type": "code",
   "execution_count": 3,
   "id": "83c68cc1",
   "metadata": {},
   "outputs": [],
   "source": [
    "now = datetime.now()\n",
    "now_np = np.datetime64(now).astype('datetime64[h]')\n",
    "origin = np.datetime64(\"2011-03-15T00:00:00\").astype(\"datetime64[h]\")\n",
    "\n",
    "new_shape = int((now_np-origin).astype(int))\n",
    "new_extent = np.arange(0,new_shape,1)\n",
    "\n",
    "store = zarr.storage.LocalStore(store_path)\n",
    "group = zarr.group(store=store)\n",
    "\n",
    "array_names=set(group.array_keys())\n",
    "coords = {\"time\", \"x\", \"y\"}\n",
    "data_arrays = array_names-coords\n",
    "\n",
    "group[\"time\"].resize(new_shape)\n",
    "for array in data_arrays:\n",
    "    group_shape  = group[array].shape\n",
    "    group[array].resize((new_shape, group_shape[1], group_shape[2]))\n",
    "\n",
    "zarr.consolidate_metadata(store)\n",
    "\n",
    "store = zarr.storage.LocalStore(store_path)\n",
    "group = zarr.group(store=store)\n",
    "\n",
    "group[\"time\"][:]=new_extent"
   ]
  },
  {
   "cell_type": "markdown",
   "id": "53111f4c",
   "metadata": {},
   "source": [
    "#### Write additional metadata"
   ]
  },
  {
   "cell_type": "markdown",
   "id": "146548ce",
   "metadata": {},
   "source": [
    "To write additional metadata the *attrs* attribute of the whole store or an array in the store is called. "
   ]
  },
  {
   "cell_type": "code",
   "execution_count": null,
   "id": "871318a4",
   "metadata": {},
   "outputs": [],
   "source": [
    "store = zarr.storage.LocalStore(store_path)\n",
    "group = zarr.group(store=store)\n",
    "\n",
    "group.attrs[\"additional attribute key\"] = \"attribute value\"\n",
    "group[\"time\"].attrs[\"additional attribute key\"] = \"attribute value\"\n",
    "\n",
    "zarr.consolidate_metadata(store)"
   ]
  }
 ],
 "metadata": {
  "kernelspec": {
   "display_name": "zarr",
   "language": "python",
   "name": "python3"
  },
  "language_info": {
   "codemirror_mode": {
    "name": "ipython",
    "version": 3
   },
   "file_extension": ".py",
   "mimetype": "text/x-python",
   "name": "python",
   "nbconvert_exporter": "python",
   "pygments_lexer": "ipython3",
   "version": "3.11.4"
  }
 },
 "nbformat": 4,
 "nbformat_minor": 5
}
