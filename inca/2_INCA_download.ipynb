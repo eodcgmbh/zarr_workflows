{
 "cells": [
  {
   "cell_type": "markdown",
   "id": "0e6ccbfd",
   "metadata": {},
   "source": [
    "### Downloading data from Geosphere Datahub (INCA)"
   ]
  },
  {
   "cell_type": "markdown",
   "id": "79c833e4",
   "metadata": {},
   "source": [
    "#### Necessary imports"
   ]
  },
  {
   "cell_type": "code",
   "execution_count": null,
   "id": "746a656d",
   "metadata": {},
   "outputs": [],
   "source": [
    "from urllib.request import urlretrieve\n",
    "import datetime\n",
    "import json\n",
    "import os"
   ]
  },
  {
   "cell_type": "markdown",
   "id": "439fc7d2",
   "metadata": {},
   "source": [
    "### Writing json with all necessary url paths"
   ]
  },
  {
   "cell_type": "markdown",
   "id": "62405d1b",
   "metadata": {},
   "source": [
    "The data is downloaded per param, so each json file contains the url paths for a single parameter. The Url have the parameter name and `YYYYMM` in their path."
   ]
  },
  {
   "cell_type": "code",
   "execution_count": null,
   "id": "2675008f",
   "metadata": {},
   "outputs": [],
   "source": [
    "# Set the param and get the end date YYYYMM format of the current date\n",
    "param= \"GL\"\n",
    "ym = (datetime.date.today()-datetime.timedelta(days=8)).strftime(\"%Y%m\")\n",
    "\n",
    "base_url = f\"https://public.hub.geosphere.at/datahub/resources/inca-v1-1h-1km/filelisting/{param}/\"\n",
    "\n",
    "years = range(2011, 2026)  # from 2011 to 2025\n",
    "months = range(1, 13)      # Jan to Dec\n",
    "\n",
    "# Get the url to each file\n",
    "file_links = []\n",
    "for year in years:\n",
    "    for month in months:\n",
    "        yyyymm = f\"{year}{month:02d}\"\n",
    "        if yyyymm > ym:  # Stop at current date\n",
    "            break\n",
    "        filename = f\"INCAL_HOURLY_{param}_{yyyymm}.nc\"\n",
    "        full_url = base_url + filename\n",
    "        file_links.append(full_url)\n",
    "\n",
    "# As the first file is available in March 2011 and currently we have Jan and Feb in our list those are skipped \n",
    "file_links = file_links[2:]\n",
    "\n",
    "# The file links are written to a json in the folder INCA_jsons\n",
    "with open(f'INCA_jsons/inca_{param}_file_links.json', 'w') as f:\n",
    "    json.dump(file_links, f, indent=2)\n",
    "\n",
    "print(f\"✅ Saved {len(file_links)} file links to inca_{param}_file_links.json\")"
   ]
  },
  {
   "cell_type": "markdown",
   "id": "8bd06091",
   "metadata": {},
   "source": [
    "### Downloading the netCDF files"
   ]
  },
  {
   "cell_type": "markdown",
   "id": "bdf7437d",
   "metadata": {},
   "source": [
    "The file links provided from the json from the step before are used to download the data. Again seperately for each parameter."
   ]
  },
  {
   "cell_type": "code",
   "execution_count": null,
   "id": "f0c717e1",
   "metadata": {},
   "outputs": [],
   "source": [
    "param=\"GL\"\n",
    "\n",
    "# Get the links form the json\n",
    "with open(f'INCA_jsons/inca_{param}_file_links.json', 'r') as f:\n",
    "    urls = json.load(f)\n",
    "\n",
    "# Create a directory to download data into\n",
    "download_dir = f'INCA_data/{param}'\n",
    "os.makedirs(download_dir, exist_ok=True)\n",
    "\n",
    "# Download files\n",
    "for url in urls:\n",
    "    filename = os.path.basename(url)\n",
    "    local_path = os.path.join(download_dir, filename)\n",
    "\n",
    "    if not os.path.exists(local_path):  # Skip if already downloaded\n",
    "        print(f\"⬇️ Downloading {filename}...\")\n",
    "        urlretrieve(url, local_path)\n",
    "        print(f\"✅ Saved to {local_path}\")\n",
    "    else:\n",
    "        print(f\"✅ Already downloaded: {filename}\")"
   ]
  }
 ],
 "metadata": {
  "kernelspec": {
   "display_name": "zarr",
   "language": "python",
   "name": "python3"
  },
  "language_info": {
   "codemirror_mode": {
    "name": "ipython",
    "version": 3
   },
   "file_extension": ".py",
   "mimetype": "text/x-python",
   "name": "python",
   "nbconvert_exporter": "python",
   "pygments_lexer": "ipython3",
   "version": "3.11.4"
  }
 },
 "nbformat": 4,
 "nbformat_minor": 5
}
